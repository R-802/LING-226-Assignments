{
  "nbformat": 4,
  "nbformat_minor": 0,
  "metadata": {
    "colab": {
      "provenance": [],
      "mount_file_id": "1GcRPo2mLq-Htzt-muxNzzm7VjPrNW0uq",
      "authorship_tag": "ABX9TyNFOyJTmJa8ad9c+LpHrnHP",
      "include_colab_link": true
    },
    "kernelspec": {
      "name": "python3",
      "display_name": "Python 3"
    },
    "language_info": {
      "name": "python"
    }
  },
  "cells": [
    {
      "cell_type": "markdown",
      "metadata": {
        "id": "view-in-github",
        "colab_type": "text"
      },
      "source": [
        "<a href=\"https://colab.research.google.com/github/R-802/LING-226-Assignments/blob/main/Assignment_Two.ipynb\" target=\"_parent\"><img src=\"https://colab.research.google.com/assets/colab-badge.svg\" alt=\"Open In Colab\"/></a>"
      ]
    },
    {
      "cell_type": "markdown",
      "source": [
        "#LING226 Assignment Two\n",
        "- Shemaiah Rangitaawa\n",
        "- `300601546`\n",
        "\n",
        "### **Research Question**\n",
        "\n",
        "> *How does the use of descriptive language differ in bestselling mystery novels compared to bestselling science fiction novels, and what does this tell us about the role of setting and atmosphere in genre-specific storytelling?*\n",
        "\n",
        "This question aims to explore how descriptive language varies between bestselling mystery and science fiction novels, focusing on how these genres use language to create setting and atmosphere. The rationale is based on two key genre characteristics:\n",
        "\n",
        "**Mystery Novels**:\n",
        "- Expected to use language that builds suspense and intrigue, with detailed descriptions focused on setting the mood and guiding the plot.\n",
        "\n",
        "**Science Fiction Novels**:\n",
        "- Likely to use and imaginative descriptions for world-building, introducing futuristic or alien elements.\n",
        "\n",
        "### **Predictions**\n",
        "**Descriptive Detail**:\n",
        "   - Mystery novels will probably use more precise and plot-driven descriptions.\n",
        "   - Science fiction novels are anticipated to have broader, more imaginative descriptions.\n",
        "\n",
        "**Lexical Choices**:\n",
        "   - Mystery novels might use language that evokes suspense and mystery.\n",
        "   - Science fiction novels are expected to include technical and futuristic terminology.\n",
        "\n",
        "**Atmosphere and Mood**:\n",
        "   - Descriptions in mystery novels are predicted to create a tense, suspenseful mood.\n",
        "   - In science fiction, the language is likely to evoke wonder and exploration."
      ],
      "metadata": {
        "id": "CvQePg-5PZXn"
      }
    },
    {
      "cell_type": "markdown",
      "source": [
        "##**Preprocessing Pipeline**\n",
        "Text preprocessing involves:\n",
        "1. **Text Cleaning**: This step involves converting all text to lowercase, removing punctuation, and eliminating numbers. This standardization ensures uniformity and relevance in the analysis.\n",
        "\n",
        "2. **Removing Stop Words**: Common words like \"the\", \"is\", and \"in\" are removed using NLTK's predefined list of stop words. These words are typically irrelevant to the overall meaning in most analysis contexts.\n",
        "\n",
        "3. **Custom TF-IDF Vectorization**: Extends standard TF-IDF by applying thresholds to filter out words based on their frequency across the books. This approach allows us to focus on words that are uniquely significant to the novel being analyzed."
      ],
      "metadata": {
        "id": "ocudlLMpWWpS"
      }
    },
    {
      "cell_type": "code",
      "execution_count": 3,
      "metadata": {
        "id": "esOq4kb4OIbL",
        "colab": {
          "base_uri": "https://localhost:8080/"
        },
        "outputId": "bd1ced73-f866-46b4-bfcf-db0cc09b0d46"
      },
      "outputs": [
        {
          "output_type": "stream",
          "name": "stderr",
          "text": [
            "[nltk_data] Downloading package punkt to /root/nltk_data...\n",
            "[nltk_data]   Unzipping tokenizers/punkt.zip.\n",
            "[nltk_data] Downloading package stopwords to /root/nltk_data...\n",
            "[nltk_data]   Unzipping corpora/stopwords.zip.\n"
          ]
        },
        {
          "output_type": "execute_result",
          "data": {
            "text/plain": [
              "True"
            ]
          },
          "metadata": {},
          "execution_count": 3
        }
      ],
      "source": [
        "import nltk\n",
        "import string\n",
        "import numpy as np\n",
        "from sklearn.feature_extraction.text import TfidfVectorizer\n",
        "from nltk.corpus import stopwords\n",
        "from nltk.tokenize import word_tokenize\n",
        "\n",
        "nltk.download('punkt')\n",
        "nltk.download('stopwords')"
      ]
    },
    {
      "cell_type": "code",
      "source": [
        "def clean_text(text):\n",
        "    text = text.lower()  # Convert to lowercase\n",
        "    text = ''.join([char for char in text if char not in string.punctuation])  # Remove punctuation\n",
        "    text = ''.join([char for char in text if not char.isdigit()])  # Remove numbers\n",
        "    return text"
      ],
      "metadata": {
        "id": "Z4AB-_uUWWHm"
      },
      "execution_count": 4,
      "outputs": []
    },
    {
      "cell_type": "code",
      "source": [
        "def tokenize_and_remove_stopwords(text):\n",
        "    stop_words = set(stopwords.words('english'))\n",
        "    word_tokens = word_tokenize(text)\n",
        "    filtered_text = [word for word in word_tokens if word not in stop_words]\n",
        "    return filtered_text"
      ],
      "metadata": {
        "id": "DFugnUjMWsE1"
      },
      "execution_count": 5,
      "outputs": []
    },
    {
      "cell_type": "code",
      "source": [
        "class CustomTfidfVectorizer(TfidfVectorizer):\n",
        "    def __init__(self, lower_threshold=0.05, upper_threshold=0.95, **kwargs):\n",
        "        super().__init__(**kwargs)\n",
        "        self.lower_threshold = lower_threshold\n",
        "        self.upper_threshold = upper_threshold\n",
        "\n",
        "    def fit_transform(self, raw_documents, y=None):\n",
        "        dt_matrix = super().fit_transform(raw_documents, y)\n",
        "        df = np.sum(dt_matrix > 0, axis=0).getA1() / len(raw_documents)\n",
        "        terms_to_keep = np.where((df >= self.lower_threshold) & (df <= self.upper_threshold))[0]\n",
        "        self.reduced_feature_names_ = np.array(self.get_feature_names_out())[terms_to_keep]\n",
        "        return dt_matrix[:, terms_to_keep]\n",
        "\n",
        "    def get_feature_names_out(self):\n",
        "        try:\n",
        "            return self.reduced_feature_names_\n",
        "        except AttributeError:\n",
        "            return super().get_feature_names_out()"
      ],
      "metadata": {
        "id": "lETiqxFVWa6h"
      },
      "execution_count": 44,
      "outputs": []
    },
    {
      "cell_type": "code",
      "source": [
        "def preprocess(documents, lower_threshold=0.05, upper_threshold=0.95):\n",
        "    cleaned_docs = [clean_text(doc) for doc in documents]\n",
        "    tokenized_docs = [' '.join(tokenize_and_remove_stopwords(doc)) for doc in cleaned_docs]\n",
        "    vectorizer = CustomTfidfVectorizer(lower_threshold=lower_threshold, upper_threshold=upper_threshold)\n",
        "    tfidf_matrix = vectorizer.fit_transform(tokenized_docs)\n",
        "    return tfidf_matrix, vectorizer.get_feature_names_out()"
      ],
      "metadata": {
        "id": "zxqHleucWcVd"
      },
      "execution_count": 7,
      "outputs": []
    },
    {
      "cell_type": "markdown",
      "source": [
        "##**Corpus Selection**\n",
        "\n",
        "> To import the corpus into Colab please download the texts from [this link](https://drive.google.com/drive/folders/15A7y8NRaJv2LRBB6zDm4043G1f9sMTWD) and add them to your google drive.\n",
        "\n",
        "### Mystery Novels\n",
        "1. **\"The Girl on the Train\" by Paula Hawkins** - A psychological thriller with a complex narrative structure.\n",
        "\n",
        "2. **\"And Then There Were None\" by Agatha Christie** - A classic whodunit by the renowned mystery writer.\n",
        "\n",
        "3. **\"In the Woods\" by Tana French** - A novel combining police procedural with psychological depth.\n",
        "\n",
        "4. **\"The Da Vinci Code\" by Dan Brown** - A fast-paced mystery intertwined with historical and religious themes.\n",
        "\n",
        "5. **\"The Woman in the Window\" by A.J. Finn** - A psychological thriller with a gripping plot and unreliable narration.\n",
        "\n",
        "6. **\"Before I Go to Sleep\" by S.J. Watson** - A psychological thriller about a woman suffering from anterograde amnesia and trying to piece together her identity.\n",
        "\n",
        "7. **\"Sharp Objects\" by Gillian Flynn** - A dark mystery involving a journalist returning to her hometown to cover the murders of two preteen girls, uncovering disturbing secrets.\n",
        "\n",
        "8. **\"Murder on the Orient Express\" by Agatha Christie** - A famous mystery set on a luxurious train.\n",
        "\n",
        "9. **\"The Girl with the Dragon Tattoo\" by Stieg Larsson** - A gripping, internationally acclaimed novel featuring a complex investigation led by a journalist and a brilliant but troubled hacker.\n",
        "\n",
        "10. **\"The Name of the Rose\" by Umberto Eco** - A historical mystery set in a 14th-century Italian monastery, where Brother William of Baskerville investigates mysterious deaths, combining elements of semiotics, theology, and philosophy.\n",
        "\n",
        "\n",
        "### Science Fiction Novels\n",
        "1. **\"1984\" by George Orwell** - A dystopian novel with profound political commentary.\n",
        "\n",
        "2. **\"The Hitchhiker's Guide to the Galaxy\" by Douglas Adams** - A blend of science fiction and humor.\n",
        "\n",
        "3. **\"The Martian\" by Andy Weir** - A gripping story of survival and ingenuity, detailing an astronaut's solitary struggle to survive on Mars after being left behind.\n",
        "\n",
        "\n",
        "4. **\"Dune\" by Frank Herbert** - A science fiction epic with deep world-building and political intrigue.\n",
        "\n",
        "5. **\"Neuromancer\" by William Gibson** - A cyberpunk novel with richly detailed futuristic settings.\n",
        "\n",
        "6. **\"Brave New World\" by Aldous Huxley** - A dystopian novel exploring a technologically advanced future.\n",
        "\n",
        "7. **\"Snow Crash\" by Neal Stephenson** - A cyberpunk novel that blends linguistics, computer science, and politics.\n",
        "\n",
        "8. **\"The War of the Worlds\" by H.G. Wells** - An early science fiction novel depicting an alien invasion.\n",
        "\n",
        "9. **\"Children of Time\" by Adrian Tchaikovsky** - An award-winning novel featuring the evolution of intelligent spiders on a terraformed planet, exploring themes of civilization, legacy, and survival.\n",
        "\n",
        "10. **\"Fahrenheit 451\" by Ray Bradbury** - A dystopian novel centered around themes of censorship and book burning.\n",
        "\n",
        "\n",
        "### Selection Rationale\n",
        "\n",
        "- **Genre Representation**: Each book is a well-recognized example of its genre, ensuring a clear distinction between the mystery and science fiction categories.\n",
        "\n",
        "- **Narrative Styles**: The selection includes a range of narrative styles, from first-person accounts to omniscient narrators, offering diverse syntactic structures.\n",
        "\n",
        "- **Thematic Variety**: The books cover various sub-genres and themes, providing a rich linguistic variety for analysis."
      ],
      "metadata": {
        "id": "N9jRiG3agEDp"
      }
    },
    {
      "cell_type": "code",
      "source": [
        "from google.colab import drive\n",
        "drive.mount('/content/drive')"
      ],
      "metadata": {
        "id": "EzxCAN6GgDdj"
      },
      "execution_count": null,
      "outputs": []
    },
    {
      "cell_type": "code",
      "source": [
        "import os\n",
        "\n",
        "def read_text_files(directory_path):\n",
        "    \"\"\"Reads all text files in a directory and returns a set of their contents.\"\"\"\n",
        "    text_contents = set()  # Use a set to store the contents\n",
        "    for filename in os.listdir(directory_path):\n",
        "        if filename.endswith('.txt'):\n",
        "            file_path = os.path.join(directory_path, filename)\n",
        "            with open(file_path, 'r', encoding='utf-8') as file:\n",
        "                full_text = file.read()  # Read the full text of the file\n",
        "                text_contents.add(full_text)  # Add the full text to the set\n",
        "    return text_contents"
      ],
      "metadata": {
        "id": "jhDkr8B_dXP8"
      },
      "execution_count": 33,
      "outputs": []
    },
    {
      "cell_type": "code",
      "source": [
        "def print_titles(text_set):\n",
        "  for text in text_set:\n",
        "      first_line = text.split('\\n', 1)[0]\n",
        "      print(first_line)\n",
        "\n",
        "mystery_path = '/content/drive/My Drive/LING226 Assignment 2 Corpus/Mystery/'\n",
        "scifi_path = '/content/drive/My Drive/LING226 Assignment 2 Corpus/SciFi/'\n",
        "\n",
        "mystery_texts = read_text_files(mystery_path)\n",
        "print(\"Mystery Novels:\")\n",
        "print_titles(mystery_texts)\n",
        "\n",
        "scifi_texts = read_text_files(scifi_path)\n",
        "print(\"\\nScifi Novels:\")\n",
        "print_titles(scifi_texts)"
      ],
      "metadata": {
        "colab": {
          "base_uri": "https://localhost:8080/"
        },
        "id": "ZXK-X5sSdjyk",
        "outputId": "e45a94e9-e57c-4362-9889-bc313c41d0ce"
      },
      "execution_count": 35,
      "outputs": [
        {
          "output_type": "stream",
          "name": "stdout",
          "text": [
            "Mystery Novels:\n",
            "[And Then There Were None by Agatha Christie 1939]\n",
            "[The Woman in the Window by A.J. Finn 2018]\n",
            "[Sharp Objects by Gillian Flynn 2006]\n",
            "[In the Woods by Tana French 2007]\n",
            "[The Da Vinci Code by Dan Brown 2003]\n",
            "[The Name of the Rose by Umberto Eco 1980]\n",
            "[Before I Go to Sleep by S.J Watson 2008]\n",
            "[The Girl on the Train by Paula Hawkins 2015]\n",
            "[Murder on the Orient Express by Agatha Christie 1934]\n",
            "[The Girl With The Dragon Tattoo by Stieg Larsson 2005]\n",
            "\n",
            "Scifi Novels:\n",
            "[Brave New World by Aldous Huxley 1931]\n",
            "[Fahrenheit 451 by Ray Bradbury 1953]\n",
            "[Children of Time by Adrain Tchaokovsky 2015]\n",
            "[Snow Crash by Neal Stephenson 1992]\n",
            "[DUNE by Frank Herbert 1965]\n",
            "[The Hitchhiker’s Guide to the Galaxy by Douglas Adams 1979]\n",
            "[The War of the Worlds by H. G. Wells 1898]\n",
            "[Nineteen Eighty-Four by George Orwell 1949]\n",
            "[The Martian by Andy Weir 2011]\n",
            "[Neuromancer by William Gibson 1984]\n"
          ]
        }
      ]
    },
    {
      "cell_type": "code",
      "source": [
        "tfidf_matrix, feature_names = preprocess(mystery_texts)"
      ],
      "metadata": {
        "id": "V0A-CUyHiA7A"
      },
      "execution_count": 39,
      "outputs": []
    },
    {
      "cell_type": "code",
      "source": [
        "print(feature_names)"
      ],
      "metadata": {
        "colab": {
          "base_uri": "https://localhost:8080/"
        },
        "id": "wt7CjBUEjG3y",
        "outputId": "e94938bb-d853-4b43-a133-70c4cfc3baa5"
      },
      "execution_count": 46,
      "outputs": [
        {
          "output_type": "stream",
          "name": "stdout",
          "text": [
            "['aa' 'aah' 'aaron' ... 'östermalmstorg' 'östersund' 'überstigen']\n"
          ]
        }
      ]
    }
  ]
}