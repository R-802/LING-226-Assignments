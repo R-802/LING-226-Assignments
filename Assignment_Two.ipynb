{
  "nbformat": 4,
  "nbformat_minor": 0,
  "metadata": {
    "colab": {
      "provenance": [],
      "authorship_tag": "ABX9TyOFdnuasaCtl3bZNctG/k1t",
      "include_colab_link": true
    },
    "kernelspec": {
      "name": "python3",
      "display_name": "Python 3"
    },
    "language_info": {
      "name": "python"
    }
  },
  "cells": [
    {
      "cell_type": "markdown",
      "metadata": {
        "id": "view-in-github",
        "colab_type": "text"
      },
      "source": [
        "<a href=\"https://colab.research.google.com/github/R-802/LING-226-Assignments/blob/main/Assignment_Two.ipynb\" target=\"_parent\"><img src=\"https://colab.research.google.com/assets/colab-badge.svg\" alt=\"Open In Colab\"/></a>"
      ]
    },
    {
      "cell_type": "markdown",
      "source": [
        "#LING226 Assignment Two\n",
        "- Shemaiah Rangitaawa\n",
        "- `300601546`\n",
        "\n",
        "# **Research Question**\n",
        "\n",
        "> *How does the use of descriptive language differ in bestselling mystery novels compared to bestselling science fiction novels, and what does this tell us about the role of setting and atmosphere in genre-specific storytelling?*\n",
        "\n",
        "This question aims to explore how descriptive language varies between bestselling mystery and science fiction novels, focusing on how these genres use language to create setting and atmosphere. The rationale is based on two key genre characteristics:\n",
        "\n",
        "1. **Mystery Novels**: Expected to use language that builds suspense and intrigue, with detailed descriptions focused on setting the mood and guiding the plot.\n",
        "\n",
        "2. **Science Fiction Novels**: Likely to employ expansive and imaginative descriptions for world-building, introducing futuristic or alien elements.\n",
        "\n",
        "# **Hypothesis**\n",
        "\n",
        "1. **Descriptive Detail**:\n",
        "   - Mystery novels will probably use more precise and plot-driven descriptions.\n",
        "   - Science fiction novels are anticipated to have broader, more imaginative descriptions.\n",
        "\n",
        "2. **Lexical Choices**:\n",
        "   - Mystery novels might use language that evokes suspense and mystery.\n",
        "   - Science fiction novels are expected to include technical and futuristic terminology.\n",
        "\n",
        "3. **Atmosphere and Mood**:\n",
        "   - Descriptions in mystery novels are predicted to create a tense, suspenseful mood.\n",
        "   - In science fiction, the language is likely to evoke wonder and exploration."
      ],
      "metadata": {
        "id": "CvQePg-5PZXn"
      }
    },
    {
      "cell_type": "markdown",
      "source": [
        "##**Preprocessing Pipeline**"
      ],
      "metadata": {
        "id": "ocudlLMpWWpS"
      }
    },
    {
      "cell_type": "code",
      "execution_count": null,
      "metadata": {
        "id": "esOq4kb4OIbL"
      },
      "outputs": [],
      "source": []
    },
    {
      "cell_type": "markdown",
      "source": [
        "##**Corpus Selection and Preprocessing**"
      ],
      "metadata": {
        "id": "N9jRiG3agEDp"
      }
    },
    {
      "cell_type": "code",
      "source": [],
      "metadata": {
        "id": "EzxCAN6GgDdj"
      },
      "execution_count": null,
      "outputs": []
    }
  ]
}