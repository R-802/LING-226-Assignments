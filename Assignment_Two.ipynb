{
  "nbformat": 4,
  "nbformat_minor": 0,
  "metadata": {
    "colab": {
      "provenance": [],
      "authorship_tag": "ABX9TyOawigKbYGl+FDAf2NBVmso",
      "include_colab_link": true
    },
    "kernelspec": {
      "name": "python3",
      "display_name": "Python 3"
    },
    "language_info": {
      "name": "python"
    }
  },
  "cells": [
    {
      "cell_type": "markdown",
      "metadata": {
        "id": "view-in-github",
        "colab_type": "text"
      },
      "source": [
        "<a href=\"https://colab.research.google.com/github/R-802/LING-226-Assignments/blob/main/Assignment_Two.ipynb\" target=\"_parent\"><img src=\"https://colab.research.google.com/assets/colab-badge.svg\" alt=\"Open In Colab\"/></a>"
      ]
    },
    {
      "cell_type": "markdown",
      "source": [
        "#LING226 Assignment Two\n",
        "- Shemaiah Rangitaawa\n",
        "- `300601546`\n",
        "\n",
        "**Research Question:** \"How does the use of descriptive language differ in bestselling mystery novels compared to bestselling science fiction novels, and what does this tell us about the role of setting and atmosphere in genre-specific storytelling?\""
      ],
      "metadata": {
        "id": "CvQePg-5PZXn"
      }
    },
    {
      "cell_type": "code",
      "execution_count": null,
      "metadata": {
        "id": "esOq4kb4OIbL"
      },
      "outputs": [],
      "source": []
    }
  ]
}