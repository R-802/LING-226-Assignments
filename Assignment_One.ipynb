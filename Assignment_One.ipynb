{
  "cells": [
    {
      "cell_type": "markdown",
      "metadata": {
        "id": "view-in-github",
        "colab_type": "text"
      },
      "source": [
        "<a href=\"https://colab.research.google.com/github/R-802/LING-226-Assignments/blob/main/Assignment_One.ipynb\" target=\"_parent\"><img src=\"https://colab.research.google.com/assets/colab-badge.svg\" alt=\"Open In Colab\"/></a>"
      ]
    },
    {
      "cell_type": "markdown",
      "metadata": {
        "id": "tDF9NZcFWpFx"
      },
      "source": [
        "#LING226 2023 T3 Assignment One\n",
        "- Shemaiah Rangitaawa `300601546`\n",
        "- Attempting Challenge"
      ]
    },
    {
      "cell_type": "markdown",
      "metadata": {
        "id": "PXj8RZ3HXJnX"
      },
      "source": [
        "## **Text Preprocessing**\n",
        "Rather than removing terms by frequency, I have decided to remove text based on it's embedding similarity.\n"
      ]
    },
    {
      "cell_type": "code",
      "source": [
        "import torch\n",
        "from transformers import BertTokenizer, BertModel\n",
        "\n",
        "# Setting up the device for GPU usage\n",
        "device = torch.device(\"cuda\" if torch.cuda.is_available() else \"cpu\")\n",
        "\n",
        "# Loading the tokenizer and model\n",
        "model_name = \"bert-base-uncased\"\n",
        "tokenizer = BertTokenizer.from_pretrained(model_name)\n",
        "model = BertModel.from_pretrained(model_name).to(device)\n",
        "\n",
        "# Checking if CUDA is available and getting the GPU device name\n",
        "cuda_available = torch.cuda.is_available()\n",
        "gpu_name = torch.cuda.get_device_name(0) if cuda_available else \"No CUDA Device Available\"\n",
        "\n",
        "cuda_available, gpu_name"
      ],
      "metadata": {
        "id": "1HGYNMQ006gG",
        "colab": {
          "base_uri": "https://localhost:8080/",
          "height": 195,
          "referenced_widgets": [
            "5c113b6a2a98402ab9d4dfe14873098b",
            "1563941d6bc84918bd28058219aa0a6f",
            "a48995a9bd2244f39527667aa2e7a73b",
            "d53bd25586844a4aa9b15957e4a1f293",
            "11b22a491f2b4ae58de80564e2b28da1",
            "a3044fcd546f4504b7e353ad52079941",
            "aca4df91702c4d6396e989d41cc227ad",
            "39ee1e7509e74deaa8ed7f2141c601a7",
            "0be3d685f6ea4f709e0626572e737ec4",
            "001dc1529eb142d28eb646d59208f8f2",
            "6323e1ba706f467999e363be19c2ab88",
            "87baa364ae4c458785127ef70fb51cd1",
            "08005459dfb444e1841e2b2e29d8000d",
            "01608e0b9a7a49af83f24197522bfd7c",
            "6e942320fd5b48d29b31ccfccbb9c8e9",
            "f398ec61a7c54fe78654ef6712867b15",
            "bf623787be224cd9a2560af42d754d5d",
            "da8cd99af2ba45fbb610967ce23abca2",
            "7cac8b7cc8334741b20bec3ab490978f",
            "588b72a45abb4f4b918a4dbda9d4943b",
            "0e818bce337543deaa36114e17753c02",
            "ddd69f4bdac34bcda9a9c009115e753c",
            "13bdf5cfc2214442ac50ecc77b1511d0",
            "5684b0742e3446f8bdfa68e4c9f19141",
            "2e479d44551c4efd9e40b28df96caea9",
            "8ec08abd1c534c12b6a591553b89b96f",
            "8753e7d8640d450e9007e6782f52d30f",
            "0250e7750c9341e2a8ac594439277509",
            "347e5e80b52f4aa08ad9b5238c2e811d",
            "27e3dde3502246878fc7ebf2e650ccf0",
            "6c7a8d98b37a4cbe9476d3de96b4cd50",
            "6aeb60440d19423d89342740065b01a9",
            "94542a09e1044051ab9199d8d92fe604",
            "fc0680dfec7e457c8a3c3d441f9bc182",
            "e2002bcc7c354c828f7c8b382d2377e7",
            "d1021c590c444ecfa5b2a7d81fde5b85",
            "de163e71e4bf425cb273ebdbd5c37d18",
            "f0d67f734d394132a2e2a0c83ad6627d",
            "c4d5eaebb4d747a6a95c4bc4a1fc49c0",
            "d52ec0ac6022409a8bb8fb4b9d624b75",
            "5cb7b3728f0c43939c4bf8c4631c36d2",
            "ae00fcffd28041bcb73b996bdb3b48d7",
            "776ef05b294a4f2797a4bc2a2abf945b",
            "9db618abf2894185a64ecdec1bf89441",
            "22341ec1069f42e584284a5ba9f5c02f",
            "d2542199518543569ff1c33832e5124f",
            "2f7e48195fba48d79220d71fc9270706",
            "6774ddc6f9be439bb568cc905542829b",
            "e3b2b672bc5c41edb83053bf985da682",
            "388bd5f5deff4cb8b2b9efc887778b56",
            "9c19077f426b4f438e80af48f65bca49",
            "dc77faea91e145dc83a18ccec847af5c",
            "e74a01e5b1c4403e99341633037a8cc4",
            "c3431e9d650840718b26fb7ba68b5946",
            "e377528f828a4912a233a83fa7fbfba0"
          ]
        },
        "outputId": "9227da44-0582-481b-a7e8-a176b4de23ce"
      },
      "execution_count": 1,
      "outputs": [
        {
          "output_type": "display_data",
          "data": {
            "text/plain": [
              "tokenizer_config.json:   0%|          | 0.00/28.0 [00:00<?, ?B/s]"
            ],
            "application/vnd.jupyter.widget-view+json": {
              "version_major": 2,
              "version_minor": 0,
              "model_id": "5c113b6a2a98402ab9d4dfe14873098b"
            }
          },
          "metadata": {}
        },
        {
          "output_type": "display_data",
          "data": {
            "text/plain": [
              "vocab.txt:   0%|          | 0.00/232k [00:00<?, ?B/s]"
            ],
            "application/vnd.jupyter.widget-view+json": {
              "version_major": 2,
              "version_minor": 0,
              "model_id": "87baa364ae4c458785127ef70fb51cd1"
            }
          },
          "metadata": {}
        },
        {
          "output_type": "display_data",
          "data": {
            "text/plain": [
              "tokenizer.json:   0%|          | 0.00/466k [00:00<?, ?B/s]"
            ],
            "application/vnd.jupyter.widget-view+json": {
              "version_major": 2,
              "version_minor": 0,
              "model_id": "13bdf5cfc2214442ac50ecc77b1511d0"
            }
          },
          "metadata": {}
        },
        {
          "output_type": "display_data",
          "data": {
            "text/plain": [
              "config.json:   0%|          | 0.00/570 [00:00<?, ?B/s]"
            ],
            "application/vnd.jupyter.widget-view+json": {
              "version_major": 2,
              "version_minor": 0,
              "model_id": "fc0680dfec7e457c8a3c3d441f9bc182"
            }
          },
          "metadata": {}
        },
        {
          "output_type": "display_data",
          "data": {
            "text/plain": [
              "model.safetensors:   0%|          | 0.00/440M [00:00<?, ?B/s]"
            ],
            "application/vnd.jupyter.widget-view+json": {
              "version_major": 2,
              "version_minor": 0,
              "model_id": "22341ec1069f42e584284a5ba9f5c02f"
            }
          },
          "metadata": {}
        },
        {
          "output_type": "execute_result",
          "data": {
            "text/plain": [
              "(True, 'Tesla T4')"
            ]
          },
          "metadata": {},
          "execution_count": 1
        }
      ]
    },
    {
      "cell_type": "code",
      "source": [
        "# Function to create BERT embeddings\n",
        "def create_embeddings(text):\n",
        "    # Add special tokens ([CLS] and [SEP]) and tokenize the text\n",
        "    marked_text = \"[CLS] \" + text + \" [SEP]\"\n",
        "    tokenized_text = tokenizer.tokenize(marked_text)\n",
        "\n",
        "    # Convert tokens to their corresponding IDs\n",
        "    indexed_tokens = tokenizer.convert_tokens_to_ids(tokenized_text)\n",
        "\n",
        "    # Create segment IDs (0 for the first sentence, 1 for the second sentence)\n",
        "    segments_ids = [1] * len(tokenized_text)\n",
        "\n",
        "    # Convert inputs to PyTorch tensors and move them to the correct device\n",
        "    tokens_tensor = torch.tensor([indexed_tokens]).to(device)\n",
        "    segments_tensors = torch.tensor([segments_ids]).to(device)\n",
        "\n",
        "    # Put the model in \"evaluation\" mode\n",
        "    model.eval()\n",
        "\n",
        "    with torch.no_grad():\n",
        "        outputs = model(tokens_tensor, segments_tensors)\n",
        "\n",
        "    # Get the hidden states from the outputs\n",
        "    hidden_states = outputs.last_hidden_state\n",
        "\n",
        "    # Use the [CLS] token representation as the sentence embedding\n",
        "    sentence_embedding = hidden_states[0].mean(dim=0)\n",
        "\n",
        "    # Convert the sentence embedding to a NumPy array while still on the GPU\n",
        "    sentence_embedding = sentence_embedding.cpu().numpy()\n",
        "\n",
        "    return sentence_embedding"
      ],
      "metadata": {
        "id": "c7hjwFufI0dU"
      },
      "execution_count": 2,
      "outputs": []
    },
    {
      "cell_type": "code",
      "source": [
        "import string\n",
        "\n",
        "# Function to preprocess text: lowercase, remove punctuation, and stop words\n",
        "def preprocess_text(text, stop_words):\n",
        "    text = text.lower()\n",
        "    text = text.translate(str.maketrans('', '', string.punctuation))\n",
        "    words = text.split()\n",
        "    return ' '.join([word for word in words if word not in stop_words])"
      ],
      "metadata": {
        "id": "gwIe9ECr46Qz"
      },
      "execution_count": 48,
      "outputs": []
    },
    {
      "cell_type": "code",
      "source": [
        "import nltk\n",
        "from nltk.tokenize import sent_tokenize\n",
        "from sklearn.metrics.pairwise import cosine_similarity\n",
        "\n",
        "nltk.download('punkt')\n",
        "\n",
        "# Main function to refine text\n",
        "def refine_text(text, keywords, stop_words, threshold=0.5):\n",
        "    sentences = sent_tokenize(text)\n",
        "    keyword_embeddings = [create_embeddings(keyword) for keyword in keywords]\n",
        "    filtered_sentences = []\n",
        "\n",
        "    for sentence in sentences:\n",
        "        sentence_embedding = create_embeddings(sentence)\n",
        "        if not any(cosine_similarity(sentence_embedding.reshape(1, -1),\n",
        "                                     keyword_emb.reshape(1, -1))[0][0] > threshold\n",
        "                   for keyword_emb in keyword_embeddings):\n",
        "            filtered_sentences.append(sentence)\n",
        "\n",
        "    processed_text = ' '.join(filtered_sentences)\n",
        "    return preprocess_text(processed_text, stop_words)"
      ],
      "metadata": {
        "colab": {
          "base_uri": "https://localhost:8080/"
        },
        "id": "YmUhe16m7a8s",
        "outputId": "611d7b87-c0d1-412a-dd64-378fcfef894f"
      },
      "execution_count": 42,
      "outputs": [
        {
          "output_type": "stream",
          "name": "stderr",
          "text": [
            "[nltk_data] Downloading package punkt to /root/nltk_data...\n",
            "[nltk_data]   Package punkt is already up-to-date!\n"
          ]
        }
      ]
    },
    {
      "cell_type": "code",
      "source": [
        "# Example usage of refine_text\n",
        "text = \"\"\"\n",
        "Technology is rapidly advancing, bringing new innovations every day. The quick brown fox jumps over the lazy dog.\n",
        "Artificial intelligence is transforming industries. Yesterday, I had a delicious apple pie.\n",
        "Renewable energy sources, like solar and wind power, are essential for sustainable growth. Cats are wonderful pets.\n",
        "\"\"\"\n",
        "\n",
        "# Keywords related to 'technology'\n",
        "keywords = [\"technology\", \"artificial intelligence\", \"renewable energy\"]\n",
        "\n",
        "# Print the refined text\n",
        "model.to(device)\n",
        "print(refine_text(text, keywords, set([]), 0.6))"
      ],
      "metadata": {
        "colab": {
          "base_uri": "https://localhost:8080/"
        },
        "id": "R8cEOkaRRKGz",
        "outputId": "7e7263b3-6937-4531-a7e9-0c1bbdb3436c"
      },
      "execution_count": 33,
      "outputs": [
        {
          "output_type": "stream",
          "name": "stdout",
          "text": [
            "technology is rapidly advancing bringing new innovations every day the quick brown fox jumps over the lazy dog yesterday i had a delicious apple pie cats are wonderful pets\n"
          ]
        }
      ]
    },
    {
      "cell_type": "code",
      "source": [
        "!pip install keybert\n",
        "!pip install sentence_transformers"
      ],
      "metadata": {
        "id": "g12tw5Voe5sp"
      },
      "execution_count": null,
      "outputs": []
    },
    {
      "cell_type": "code",
      "source": [
        "from keybert import KeyBERT\n",
        "import torch\n",
        "\n",
        "# Initialize KeyBERT model\n",
        "kw_model = KeyBERT()\n",
        "\n",
        "def extract_keywords(text, num_keywords=5):\n",
        "    \"\"\"\n",
        "    Extract keywords from a text using KeyBERT and compute their embeddings.\n",
        "\n",
        "    :param text: The text to extract keywords from.\n",
        "    :param num_keywords: Number of keywords to extract.\n",
        "    :return: A dictionary with keyword embeddings and the list of keywords.\n",
        "    \"\"\"\n",
        "\n",
        "    # Extract keywords from the text\n",
        "    keywords = kw_model.extract_keywords(text, keyphrase_ngram_range=(1, 1), stop_words='english', top_n=num_keywords)\n",
        "\n",
        "    # Extract just the keywords (first element of each tuple)\n",
        "    extracted_keywords = [keyword[0] for keyword in keywords]\n",
        "\n",
        "    # Tokenize and encode extracted keywords in a batch\n",
        "    key_word_tokens = tokenizer(extracted_keywords, padding=True, return_tensors=\"pt\").to(device)\n",
        "\n",
        "    with torch.no_grad():\n",
        "        key_word_outputs = model(**key_word_tokens)\n",
        "    key_word_embeddings = key_word_outputs.last_hidden_state.mean(dim=1)\n",
        "\n",
        "    return {\n",
        "        'key_word_embeddings': key_word_embeddings,\n",
        "        'keywords': extracted_keywords\n",
        "    }"
      ],
      "metadata": {
        "id": "oDTbOnOG2a1o"
      },
      "execution_count": 49,
      "outputs": []
    },
    {
      "cell_type": "markdown",
      "metadata": {
        "id": "3vUGCuRUgnEE"
      },
      "source": [
        "## **Text Metric Function `text_metrics`**\n",
        "**Total Words:** The total count of words in the text.\n",
        "\n",
        "**Overall Lexical Diversity:** The ratio of unique words to the total number of words, providing a measure of the text's vocabulary variety.\n",
        "\n",
        "**Average Sentence Lexical Diversity:** The average diversity of vocabulary used across all sentences in the text.\n",
        "\n",
        "**Top Ten Most Frequent Word:** A list of the ten most commonly used words in the text, along with their frequencies.\n",
        "\n",
        "**Total Number of Sentences:** The total sentence count of the text. When analysing processed text, this metric becomes redundant as there is no punctuation to split the text on."
      ]
    },
    {
      "cell_type": "code",
      "execution_count": 18,
      "metadata": {
        "id": "STuEJkn-4aXC"
      },
      "outputs": [],
      "source": [
        "import re\n",
        "from collections import Counter\n",
        "\n",
        "def text_metrics(text):\n",
        "    \"\"\"\n",
        "    Calculate various metrics from the given text.\n",
        "\n",
        "    :param text: The input text to analyze\n",
        "    :return: A dictionary with metrics including total words, overall lexical diversity,\n",
        "             average sentence lexical diversity, top ten words, and number of sentences\n",
        "    \"\"\"\n",
        "    # Tokenizing the text into words\n",
        "    words = re.findall(r'\\b\\w+\\b', text.lower())\n",
        "    total_words = len(words)\n",
        "\n",
        "    # Overall lexical diversity\n",
        "    unique_words = len(set(words))\n",
        "    overall_lexical_diversity = unique_words / total_words if total_words > 0 else 0\n",
        "\n",
        "    # Sentence tokenization\n",
        "    sentences = re.split(r'[.!?]+\\s*', text.strip())\n",
        "    sentences = [s for s in sentences if s]  # Remove empty sentences\n",
        "\n",
        "    # Lexical diversity per sentence\n",
        "    sentence_diversities = [\n",
        "        len(set(re.findall(r'\\b\\w+\\b', sentence.lower()))) / len(sentence.split())\n",
        "        for sentence in sentences\n",
        "    ]\n",
        "\n",
        "    # Average lexical diversity of sentences\n",
        "    avg_sentence_lexical_diversity = sum(sentence_diversities) / len(sentence_diversities) if sentence_diversities else 0\n",
        "\n",
        "    # Top ten most frequent words\n",
        "    top_ten_words = Counter(words).most_common(10)\n",
        "\n",
        "    # Number of sentences\n",
        "    num_sentences = len(sentences)\n",
        "\n",
        "    return {\n",
        "        'total_words': total_words,\n",
        "        'overall_lexical_diversity': overall_lexical_diversity,\n",
        "        'avg_sentence_lexical_diversity': avg_sentence_lexical_diversity,\n",
        "        'top_ten_words': top_ten_words,\n",
        "        'num_sentences': num_sentences\n",
        "    }"
      ]
    },
    {
      "cell_type": "markdown",
      "metadata": {
        "id": "WKvarCUatq2E"
      },
      "source": [
        "###**Formatting for Text Metrics**"
      ]
    },
    {
      "cell_type": "code",
      "execution_count": 19,
      "metadata": {
        "id": "1bFtign7tLu9"
      },
      "outputs": [],
      "source": [
        "def format_metrics(title, metrics):\n",
        "    # Handling edge case where there might not be any frequent words\n",
        "    if metrics['top_ten_words']:\n",
        "        formatted_top_words = ', '.join([word for word, _ in metrics['top_ten_words']])\n",
        "        highest_word, highest_freq = metrics['top_ten_words'][0]  # Extracting the highest frequency word and its frequency\n",
        "    else:\n",
        "        formatted_top_words = \"None\"\n",
        "        highest_word, highest_freq = (\"N/A\", 0)\n",
        "\n",
        "    # Formatting the diversities as percentages\n",
        "    overall_diversity_percentage = metrics['overall_lexical_diversity'] * 100\n",
        "    avg_sentence_diversity_percentage = metrics['avg_sentence_lexical_diversity'] * 100\n",
        "\n",
        "    return (f\"--------- Text Metrics for {title} ---------\\n\"\n",
        "            f\"Total Words: {metrics['total_words']}\\n\"\n",
        "            f\"Total Sentences: {metrics['num_sentences']}\\n\"\n",
        "            f\"Overall Lexical Diversity: {overall_diversity_percentage:.2f}%\\n\"\n",
        "            f\"Average Lexical Diversity of Sentences: {avg_sentence_diversity_percentage:.2f}%\\n\"\n",
        "            f\"Top Ten Most Frequent Words: {formatted_top_words}\\n\"\n",
        "            f\"Highest Frequency Word: '{highest_word}' (Frequency: {highest_freq})\\n\")\n"
      ]
    },
    {
      "cell_type": "markdown",
      "metadata": {
        "id": "-Dk5c65Ieyu5"
      },
      "source": [
        "## **Importing and Reading `TP001.txt` from URL and `austen-emma.txt` from NLTK corpora**"
      ]
    },
    {
      "cell_type": "code",
      "execution_count": 20,
      "metadata": {
        "colab": {
          "base_uri": "https://localhost:8080/"
        },
        "id": "e9jh2IuW8ytE",
        "outputId": "776d9c45-eb23-4e88-bc2b-25ba1c71b800"
      },
      "outputs": [
        {
          "output_type": "stream",
          "name": "stdout",
          "text": [
            "--2023-11-18 09:42:07--  https://raw.githubusercontent.com/scskalicky/LING-226-vuw/main/the-current/tp001.txt\n",
            "Resolving raw.githubusercontent.com (raw.githubusercontent.com)... 185.199.111.133, 185.199.108.133, 185.199.110.133, ...\n",
            "Connecting to raw.githubusercontent.com (raw.githubusercontent.com)|185.199.111.133|:443... connected.\n",
            "HTTP request sent, awaiting response... 200 OK\n",
            "Length: 220746 (216K) [text/plain]\n",
            "Saving to: ‘tp001.txt’\n",
            "\n",
            "\rtp001.txt             0%[                    ]       0  --.-KB/s               \rtp001.txt           100%[===================>] 215.57K  --.-KB/s    in 0.03s   \n",
            "\n",
            "2023-11-18 09:42:07 (6.19 MB/s) - ‘tp001.txt’ saved [220746/220746]\n",
            "\n"
          ]
        }
      ],
      "source": [
        "!wget 'https://raw.githubusercontent.com/scskalicky/LING-226-vuw/main/the-current/tp001.txt'"
      ]
    },
    {
      "cell_type": "code",
      "execution_count": 21,
      "metadata": {
        "colab": {
          "base_uri": "https://localhost:8080/"
        },
        "id": "hNn54koW82et",
        "outputId": "ee6a32c7-2ead-462e-dd46-ac8bc8f7ae20"
      },
      "outputs": [
        {
          "output_type": "stream",
          "name": "stdout",
          "text": [
            "First part of tp001_text: ... we need to work hard to make it happen 3d is better than other bands in the whole country a ban on sales of new petrol vehicles would be more sensible than an outright ban .  an outright ban is itself wasteful A carless life is much more fun A good idea in theory but would have to change a lot of infrastructure. Not to mention industry and jobs. a good idea to protect our earth ! A good opportunity to reduce harm to the environment A N G E R Y A s part of many other changes A STEP IN THE RIG\n"
          ]
        }
      ],
      "source": [
        "# Open the file and read its lines\n",
        "with open('tp001.txt', 'r', encoding='utf-8') as file:\n",
        "    lines = file.readlines()\n",
        "\n",
        "# Concatenate all comments into a single text string\n",
        "tp001_text = \"\"\n",
        "for line in lines:\n",
        "    if '\\t' in line:\n",
        "        comment = line.split('\\t')[1].strip()  # Extract and strip the comment\n",
        "        tp001_text += comment + \" \"  # Add the comment to the text string\n",
        "\n",
        "# Optionally, display the first part of the concatenated text\n",
        "print(\"First part of tp001_text:\", tp001_text[:500])"
      ]
    },
    {
      "cell_type": "code",
      "execution_count": 22,
      "metadata": {
        "colab": {
          "base_uri": "https://localhost:8080/"
        },
        "id": "BEbU2LnzDSPT",
        "outputId": "7fb77a9d-7c38-4351-d881-fa30ee7dd63c"
      },
      "outputs": [
        {
          "output_type": "stream",
          "name": "stderr",
          "text": [
            "[nltk_data] Downloading package gutenberg to /root/nltk_data...\n",
            "[nltk_data]   Unzipping corpora/gutenberg.zip.\n"
          ]
        },
        {
          "output_type": "stream",
          "name": "stdout",
          "text": [
            "[Emma by Jane Austen 1816]\n",
            "\n",
            "VOLUME I\n",
            "\n",
            "CHAPTER I\n",
            "\n",
            "\n",
            "Emma Woodhouse, handsome, clever, and rich, with a comfortable home\n",
            "and happy disposition, seemed to unite some of the best blessings\n",
            "of existence; and had lived nearly twenty-one years in the world\n",
            "with very little to distress or vex her.\n",
            "\n"
          ]
        }
      ],
      "source": [
        "import nltk\n",
        "from nltk.corpus import gutenberg\n",
        "\n",
        "# Download gutenberg corpus\n",
        "nltk.download('gutenberg')\n",
        "\n",
        "# Using Emma by Jane Austen 1816\n",
        "emma_text = gutenberg.raw('austen-emma.txt')\n",
        "print(emma_text[:290])"
      ]
    },
    {
      "cell_type": "markdown",
      "metadata": {
        "id": "_xjsTV0Ri3hI"
      },
      "source": [
        "# **Experimentation**\n",
        "The following experimentation section includes:\n",
        "- An analysis and overview of metrics from both sample texts.  \n",
        "- Visualization of the top ten words before and after processing.\n",
        "- Analysis of Emma's overall lexical diversity before and after processing.\n",
        "\n",
        "**Notes:** I have chosen to use the NLTK's stopword list for preprocessing. I  have used 'Emma by Jane Austen 1816' from NLTK corpora and 'TP001 (Petrol cars should be banned by 2030)' from The Current."
      ]
    },
    {
      "cell_type": "markdown",
      "metadata": {
        "id": "sbO_HHU0R2iV"
      },
      "source": [
        "### **Importing libraries and initializing stopwords set**\n",
        "Required for preprocessing and visualization."
      ]
    },
    {
      "cell_type": "code",
      "source": [
        "import random\n",
        "import plotly.graph_objects as go\n",
        "from plotly.subplots import make_subplots\n",
        "import plotly.express as px\n",
        "from nltk.corpus import stopwords\n",
        "nltk.download('stopwords')\n",
        "stop_words = set(stopwords.words('english'))\n",
        "\n",
        "# For some reason 'n' was the top word in tp001\n",
        "stop_words.add('n')\n",
        "print(stop_words)"
      ],
      "metadata": {
        "colab": {
          "base_uri": "https://localhost:8080/"
        },
        "id": "LUBrZP_GgD-0",
        "outputId": "e5f5b3a2-ec3c-4a68-efa7-fbee30593326"
      },
      "execution_count": 56,
      "outputs": [
        {
          "output_type": "stream",
          "name": "stdout",
          "text": [
            "{'an', 'did', 'is', 'off', 'my', 'yourselves', 'out', 'hadn', 'can', 'now', 'hers', 'when', 'further', 'i', 'this', 'our', 'has', 'until', 'if', 'won', \"mightn't\", 'of', 'up', 'isn', 'mustn', 'nor', 'what', 'was', 'his', \"you'd\", 'm', 'herself', 'shouldn', 'only', 'between', 'yourself', 'that', 'so', 'have', 'which', \"she's\", 'were', 'being', 'all', 'these', \"weren't\", \"isn't\", 'more', 'at', 'from', 'll', \"wasn't\", 'wouldn', 'its', \"shouldn't\", 'she', 'ours', 'be', 'didn', 'he', \"don't\", 'where', \"you'll\", 'been', \"hasn't\", 'are', 'theirs', 'a', \"aren't\", 'needn', 'because', 'same', 'those', 'below', 'on', \"needn't\", 'themselves', 'again', 'some', \"couldn't\", 'you', 'does', 'into', 'just', 'will', 'against', 'too', 'during', 'ain', 'than', 'while', \"hadn't\", 'whom', 'it', 'their', 'under', \"it's\", 'by', 'then', 'there', 'doesn', 'd', 'don', 'me', 'they', 'doing', 'ourselves', 'for', 'having', 'with', 'each', 'or', 'her', 'over', \"you're\", \"you've\", 'as', 'yours', 'itself', 'how', 'mightn', 'but', 'couldn', \"doesn't\", 'through', 'to', 'them', \"wouldn't\", 'any', 'about', 've', 're', 's', 'above', 'y', 'not', 'wasn', 'myself', 'here', 'we', 'who', \"won't\", 'haven', 'do', 'in', 'why', 'no', 'once', 't', 'other', 'ma', 'himself', \"that'll\", 'the', 'weren', 'before', 'after', 'down', 'aren', 'very', \"haven't\", 'o', 'own', \"didn't\", 'am', 'your', 'him', 'n', 'most', 'should', 'and', 'few', 'had', 'shan', \"should've\", \"shan't\", \"mustn't\", 'both', 'hasn', 'such'}\n"
          ]
        },
        {
          "output_type": "stream",
          "name": "stderr",
          "text": [
            "[nltk_data] Downloading package stopwords to /root/nltk_data...\n",
            "[nltk_data]   Package stopwords is already up-to-date!\n"
          ]
        }
      ]
    },
    {
      "cell_type": "markdown",
      "metadata": {
        "id": "BBI2_fzUQlXf"
      },
      "source": [
        "## **Analysis and overview of metrics from both sample texts**\n"
      ]
    },
    {
      "cell_type": "code",
      "execution_count": 44,
      "metadata": {
        "colab": {
          "base_uri": "https://localhost:8080/"
        },
        "id": "98VOzO9MqP1k",
        "outputId": "ee727cca-86aa-46cd-cbe7-8c3a9881d466"
      },
      "outputs": [
        {
          "output_type": "stream",
          "name": "stdout",
          "text": [
            "--------- Text Metrics for Emma - Raw Text ---------\n",
            "Total Words: 161983\n",
            "Total Sentences: 10535\n",
            "Overall Lexical Diversity: 4.48%\n",
            "Average Lexical Diversity of Sentences: 93.33%\n",
            "Top Ten Most Frequent Words: to, the, and, of, i, a, it, her, was, she\n",
            "Highest Frequency Word: 'to' (Frequency: 5239)\n",
            "\n",
            "--------- Text Metrics for TP001 - Raw Text ---------\n",
            "Total Words: 39065\n",
            "Total Sentences: 1562\n",
            "Overall Lexical Diversity: 12.06%\n",
            "Average Lexical Diversity of Sentences: 90.14%\n",
            "Top Ten Most Frequent Words: the, to, we, and, i, it, a, is, be, for\n",
            "Highest Frequency Word: 'the' (Frequency: 1507)\n",
            "\n"
          ]
        }
      ],
      "source": [
        "# Analyzing raw texts\n",
        "# --------------------\n",
        "\n",
        "# Get text metrics for raw unprocessed text\n",
        "emma_metrics = text_metrics(emma_text)\n",
        "tp001_metrics = text_metrics(tp001_text)\n",
        "\n",
        "# Extracting top ten words and their frequencies for plotting\n",
        "emma_top_ten_words, emma_frequencies = zip(*emma_metrics['top_ten_words'])\n",
        "tp001_top_ten_words, tp001_frequencies = zip(*tp001_metrics['top_ten_words'])\n",
        "\n",
        "# Extract the number of sentences\n",
        "emma_num_sentences = emma_metrics['num_sentences']\n",
        "tp001_num_sentences = tp001_metrics['num_sentences']\n",
        "\n",
        "# Printing metrics for raw texts\n",
        "print(format_metrics(\"Emma - Raw Text\", emma_metrics))\n",
        "print(format_metrics(\"TP001 - Raw Text\", tp001_metrics))"
      ]
    },
    {
      "cell_type": "code",
      "source": [
        "# Extracting keywords for preprocessing\n",
        "print(\"\\033[93mExtracting Keywords...\\033[0m\")\n",
        "\n",
        "emma_keywords = extract_keywords(emma_text, 20)\n",
        "print(emma_keywords['keywords'])\n",
        "\n",
        "tp001_keywords = extract_keywords(tp001_text, 20)\n",
        "print(tp001_keywords['keywords'])\n",
        "\n",
        "emma_keyword_embeddings = emma_keywords['key_word_embeddings']\n",
        "tp001_keyword_embeddings = tp001_keywords['key_word_embeddings']\n",
        "\n",
        "print(\"\\033[92mExtraction Successful\\n\\033[0m\")"
      ],
      "metadata": {
        "colab": {
          "base_uri": "https://localhost:8080/"
        },
        "id": "huw-7WZD3ZJR",
        "outputId": "6607ace0-2065-4d0f-ef9b-a59fd3f49fae"
      },
      "execution_count": 51,
      "outputs": [
        {
          "output_type": "stream",
          "name": "stdout",
          "text": [
            "\u001b[93mExtracting Keywords...\u001b[0m\n",
            "['emma', 'austen', 'maids', '1816', 'mistress', 'niece', 'isabella', '_taylor_', 'catherine', 'scarlet', 'taylor', 'mistresses', 'jane', 'maid', 'daughters', 'elizabeth', 'harriet', 'housemaid', 'novelties', 'anne']\n",
            "['renewables', 'renewable', 'mitigation', 'fuels', 'sustainability', 'alternatives', 'sustainable', 'emissions', 'fuelsand', 'energytech', 'environmentally', 'pollution', 'enviromentforfuture', 'biofuel', 'banning', 'pollutionand', 'conservation', 'diesel', 'ennvironmental', 'petroleum']\n",
            "\u001b[92mExtraction Successful\n",
            "\u001b[0m\n"
          ]
        }
      ]
    },
    {
      "cell_type": "code",
      "source": [
        "# Analyzing preprocessed texts\n",
        "# ----------------------------\n",
        "\n",
        "# def refine_text(text, keywords, stop_words, threshold=0.5):\n",
        "\n",
        "preprocessed_tp001 = refine_text(tp001_text, keywords, stop_words)\n",
        "preprocessed_tp001_metrics = text_metrics(preprocessed_tp001)\n",
        "print(format_metrics(\"TP001 - Preprocessed Text\", preprocessed_tp001_metrics))\n",
        "\n",
        "preprocessed_emma = refine_text(emma_text, keywords, stop_words)\n",
        "preprocessed_emma_metrics = text_metrics(preprocessed_emma)\n",
        "print(format_metrics(\"Emma - Preprocessed Text\", preprocessed_emma_metrics))\n",
        "\n",
        "# Extracting top ten words and their frequencies for preprocessed texts\n",
        "preprocessed_emma_top_ten, preprocessed_emma_freq = zip(*preprocessed_emma_metrics['top_ten_words'])\n",
        "preprocessed_tp001_top_ten, preprocessed_tp001_freq = zip(*preprocessed_tp001_metrics['top_ten_words'])\n",
        "\n",
        "# Extract the number of sentences for preprocessed texts\n",
        "preprocessed_emma_num_sentences = preprocessed_emma_metrics['num_sentences']\n",
        "preprocessed_tp001_num_sentences = preprocessed_tp001_metrics['num_sentences']"
      ],
      "metadata": {
        "colab": {
          "base_uri": "https://localhost:8080/"
        },
        "id": "3Ofly4OM3W_M",
        "outputId": "2cc3b5b5-7cd4-4203-d1e3-41bc497b1516"
      },
      "execution_count": 55,
      "outputs": [
        {
          "output_type": "stream",
          "name": "stdout",
          "text": [
            "--------- Text Metrics for TP001 - Preprocessed Text ---------\n",
            "Total Words: 19567\n",
            "Total Sentences: 1\n",
            "Overall Lexical Diversity: 23.08%\n",
            "Average Lexical Diversity of Sentences: 23.26%\n",
            "Top Ten Most Frequent Words: cars, petrol, need, think, change, good, planet, better, electric, environment\n",
            "Highest Frequency Word: 'cars' (Frequency: 507)\n",
            "\n",
            "--------- Text Metrics for Emma - Preprocessed Text ---------\n",
            "Total Words: 72433\n",
            "Total Sentences: 1\n",
            "Overall Lexical Diversity: 12.62%\n",
            "Average Lexical Diversity of Sentences: 12.62%\n",
            "Top Ten Most Frequent Words: mr, could, would, emma, mrs, miss, must, much, said, one\n",
            "Highest Frequency Word: 'mr' (Frequency: 1120)\n",
            "\n"
          ]
        }
      ]
    },
    {
      "cell_type": "markdown",
      "metadata": {
        "id": "GfqQ-qJwRFnI"
      },
      "source": [
        "## **Visualization of The Top Ten Words with Their Frequencies Before and After Processing**\n",
        "\n",
        "The visual comparison of word frequencies before and after text processing illustrates the shift from generic to specific language elements, informing the thematic interpretation of the text.\n"
      ]
    },
    {
      "cell_type": "code",
      "execution_count": null,
      "metadata": {
        "colab": {
          "base_uri": "https://localhost:8080/",
          "height": 837
        },
        "id": "8gMxQcxkFv03",
        "outputId": "699d6f58-d45b-439b-a14e-1a0a7f7e4884"
      },
      "outputs": [
        {
          "output_type": "display_data",
          "data": {
            "text/html": [
              "<html>\n",
              "<head><meta charset=\"utf-8\" /></head>\n",
              "<body>\n",
              "    <div>            <script src=\"https://cdnjs.cloudflare.com/ajax/libs/mathjax/2.7.5/MathJax.js?config=TeX-AMS-MML_SVG\"></script><script type=\"text/javascript\">if (window.MathJax && window.MathJax.Hub && window.MathJax.Hub.Config) {window.MathJax.Hub.Config({SVG: {font: \"STIX-Web\"}});}</script>                <script type=\"text/javascript\">window.PlotlyConfig = {MathJaxConfig: 'local'};</script>\n",
              "        <script charset=\"utf-8\" src=\"https://cdn.plot.ly/plotly-2.24.1.min.js\"></script>                <div id=\"4cc38de9-d25c-42c1-90bd-a91b5cb04103\" class=\"plotly-graph-div\" style=\"height:800px; width:1200px;\"></div>            <script type=\"text/javascript\">                                    window.PLOTLYENV=window.PLOTLYENV || {};                                    if (document.getElementById(\"4cc38de9-d25c-42c1-90bd-a91b5cb04103\")) {                    Plotly.newPlot(                        \"4cc38de9-d25c-42c1-90bd-a91b5cb04103\",                        [{\"x\":[\"to\",\"the\",\"and\",\"of\",\"i\",\"a\",\"it\",\"her\",\"was\",\"she\"],\"y\":[5239,5201,4896,4291,3178,3129,2528,2469,2398,2340],\"type\":\"bar\",\"xaxis\":\"x\",\"yaxis\":\"y\"},{\"x\":[\"the\",\"to\",\"we\",\"and\",\"i\",\"it\",\"a\",\"is\",\"be\",\"for\"],\"y\":[1507,1498,986,971,747,730,708,686,663,622],\"type\":\"bar\",\"xaxis\":\"x2\",\"yaxis\":\"y2\"},{\"x\":[\"would\",\"emma\",\"mrs\",\"miss\",\"must\",\"much\",\"said\",\"every\",\"one\",\"harriet\"],\"y\":[816,751,685,584,563,474,474,427,422,390],\"type\":\"bar\",\"xaxis\":\"x3\",\"yaxis\":\"y3\"},{\"x\":[\"need\",\"think\",\"electric\",\"change\",\"better\",\"good\",\"planet\",\"environment\",\"future\",\"would\"],\"y\":[326,274,220,219,207,203,202,189,179,176],\"type\":\"bar\",\"xaxis\":\"x4\",\"yaxis\":\"y4\"}],                        {\"template\":{\"data\":{\"histogram2dcontour\":[{\"type\":\"histogram2dcontour\",\"colorbar\":{\"outlinewidth\":0,\"ticks\":\"\"},\"colorscale\":[[0.0,\"#0d0887\"],[0.1111111111111111,\"#46039f\"],[0.2222222222222222,\"#7201a8\"],[0.3333333333333333,\"#9c179e\"],[0.4444444444444444,\"#bd3786\"],[0.5555555555555556,\"#d8576b\"],[0.6666666666666666,\"#ed7953\"],[0.7777777777777778,\"#fb9f3a\"],[0.8888888888888888,\"#fdca26\"],[1.0,\"#f0f921\"]]}],\"choropleth\":[{\"type\":\"choropleth\",\"colorbar\":{\"outlinewidth\":0,\"ticks\":\"\"}}],\"histogram2d\":[{\"type\":\"histogram2d\",\"colorbar\":{\"outlinewidth\":0,\"ticks\":\"\"},\"colorscale\":[[0.0,\"#0d0887\"],[0.1111111111111111,\"#46039f\"],[0.2222222222222222,\"#7201a8\"],[0.3333333333333333,\"#9c179e\"],[0.4444444444444444,\"#bd3786\"],[0.5555555555555556,\"#d8576b\"],[0.6666666666666666,\"#ed7953\"],[0.7777777777777778,\"#fb9f3a\"],[0.8888888888888888,\"#fdca26\"],[1.0,\"#f0f921\"]]}],\"heatmap\":[{\"type\":\"heatmap\",\"colorbar\":{\"outlinewidth\":0,\"ticks\":\"\"},\"colorscale\":[[0.0,\"#0d0887\"],[0.1111111111111111,\"#46039f\"],[0.2222222222222222,\"#7201a8\"],[0.3333333333333333,\"#9c179e\"],[0.4444444444444444,\"#bd3786\"],[0.5555555555555556,\"#d8576b\"],[0.6666666666666666,\"#ed7953\"],[0.7777777777777778,\"#fb9f3a\"],[0.8888888888888888,\"#fdca26\"],[1.0,\"#f0f921\"]]}],\"heatmapgl\":[{\"type\":\"heatmapgl\",\"colorbar\":{\"outlinewidth\":0,\"ticks\":\"\"},\"colorscale\":[[0.0,\"#0d0887\"],[0.1111111111111111,\"#46039f\"],[0.2222222222222222,\"#7201a8\"],[0.3333333333333333,\"#9c179e\"],[0.4444444444444444,\"#bd3786\"],[0.5555555555555556,\"#d8576b\"],[0.6666666666666666,\"#ed7953\"],[0.7777777777777778,\"#fb9f3a\"],[0.8888888888888888,\"#fdca26\"],[1.0,\"#f0f921\"]]}],\"contourcarpet\":[{\"type\":\"contourcarpet\",\"colorbar\":{\"outlinewidth\":0,\"ticks\":\"\"}}],\"contour\":[{\"type\":\"contour\",\"colorbar\":{\"outlinewidth\":0,\"ticks\":\"\"},\"colorscale\":[[0.0,\"#0d0887\"],[0.1111111111111111,\"#46039f\"],[0.2222222222222222,\"#7201a8\"],[0.3333333333333333,\"#9c179e\"],[0.4444444444444444,\"#bd3786\"],[0.5555555555555556,\"#d8576b\"],[0.6666666666666666,\"#ed7953\"],[0.7777777777777778,\"#fb9f3a\"],[0.8888888888888888,\"#fdca26\"],[1.0,\"#f0f921\"]]}],\"surface\":[{\"type\":\"surface\",\"colorbar\":{\"outlinewidth\":0,\"ticks\":\"\"},\"colorscale\":[[0.0,\"#0d0887\"],[0.1111111111111111,\"#46039f\"],[0.2222222222222222,\"#7201a8\"],[0.3333333333333333,\"#9c179e\"],[0.4444444444444444,\"#bd3786\"],[0.5555555555555556,\"#d8576b\"],[0.6666666666666666,\"#ed7953\"],[0.7777777777777778,\"#fb9f3a\"],[0.8888888888888888,\"#fdca26\"],[1.0,\"#f0f921\"]]}],\"mesh3d\":[{\"type\":\"mesh3d\",\"colorbar\":{\"outlinewidth\":0,\"ticks\":\"\"}}],\"scatter\":[{\"fillpattern\":{\"fillmode\":\"overlay\",\"size\":10,\"solidity\":0.2},\"type\":\"scatter\"}],\"parcoords\":[{\"type\":\"parcoords\",\"line\":{\"colorbar\":{\"outlinewidth\":0,\"ticks\":\"\"}}}],\"scatterpolargl\":[{\"type\":\"scatterpolargl\",\"marker\":{\"colorbar\":{\"outlinewidth\":0,\"ticks\":\"\"}}}],\"bar\":[{\"error_x\":{\"color\":\"#2a3f5f\"},\"error_y\":{\"color\":\"#2a3f5f\"},\"marker\":{\"line\":{\"color\":\"#E5ECF6\",\"width\":0.5},\"pattern\":{\"fillmode\":\"overlay\",\"size\":10,\"solidity\":0.2}},\"type\":\"bar\"}],\"scattergeo\":[{\"type\":\"scattergeo\",\"marker\":{\"colorbar\":{\"outlinewidth\":0,\"ticks\":\"\"}}}],\"scatterpolar\":[{\"type\":\"scatterpolar\",\"marker\":{\"colorbar\":{\"outlinewidth\":0,\"ticks\":\"\"}}}],\"histogram\":[{\"marker\":{\"pattern\":{\"fillmode\":\"overlay\",\"size\":10,\"solidity\":0.2}},\"type\":\"histogram\"}],\"scattergl\":[{\"type\":\"scattergl\",\"marker\":{\"colorbar\":{\"outlinewidth\":0,\"ticks\":\"\"}}}],\"scatter3d\":[{\"type\":\"scatter3d\",\"line\":{\"colorbar\":{\"outlinewidth\":0,\"ticks\":\"\"}},\"marker\":{\"colorbar\":{\"outlinewidth\":0,\"ticks\":\"\"}}}],\"scattermapbox\":[{\"type\":\"scattermapbox\",\"marker\":{\"colorbar\":{\"outlinewidth\":0,\"ticks\":\"\"}}}],\"scatterternary\":[{\"type\":\"scatterternary\",\"marker\":{\"colorbar\":{\"outlinewidth\":0,\"ticks\":\"\"}}}],\"scattercarpet\":[{\"type\":\"scattercarpet\",\"marker\":{\"colorbar\":{\"outlinewidth\":0,\"ticks\":\"\"}}}],\"carpet\":[{\"aaxis\":{\"endlinecolor\":\"#2a3f5f\",\"gridcolor\":\"white\",\"linecolor\":\"white\",\"minorgridcolor\":\"white\",\"startlinecolor\":\"#2a3f5f\"},\"baxis\":{\"endlinecolor\":\"#2a3f5f\",\"gridcolor\":\"white\",\"linecolor\":\"white\",\"minorgridcolor\":\"white\",\"startlinecolor\":\"#2a3f5f\"},\"type\":\"carpet\"}],\"table\":[{\"cells\":{\"fill\":{\"color\":\"#EBF0F8\"},\"line\":{\"color\":\"white\"}},\"header\":{\"fill\":{\"color\":\"#C8D4E3\"},\"line\":{\"color\":\"white\"}},\"type\":\"table\"}],\"barpolar\":[{\"marker\":{\"line\":{\"color\":\"#E5ECF6\",\"width\":0.5},\"pattern\":{\"fillmode\":\"overlay\",\"size\":10,\"solidity\":0.2}},\"type\":\"barpolar\"}],\"pie\":[{\"automargin\":true,\"type\":\"pie\"}]},\"layout\":{\"autotypenumbers\":\"strict\",\"colorway\":[\"#636efa\",\"#EF553B\",\"#00cc96\",\"#ab63fa\",\"#FFA15A\",\"#19d3f3\",\"#FF6692\",\"#B6E880\",\"#FF97FF\",\"#FECB52\"],\"font\":{\"color\":\"#2a3f5f\"},\"hovermode\":\"closest\",\"hoverlabel\":{\"align\":\"left\"},\"paper_bgcolor\":\"white\",\"plot_bgcolor\":\"#E5ECF6\",\"polar\":{\"bgcolor\":\"#E5ECF6\",\"angularaxis\":{\"gridcolor\":\"white\",\"linecolor\":\"white\",\"ticks\":\"\"},\"radialaxis\":{\"gridcolor\":\"white\",\"linecolor\":\"white\",\"ticks\":\"\"}},\"ternary\":{\"bgcolor\":\"#E5ECF6\",\"aaxis\":{\"gridcolor\":\"white\",\"linecolor\":\"white\",\"ticks\":\"\"},\"baxis\":{\"gridcolor\":\"white\",\"linecolor\":\"white\",\"ticks\":\"\"},\"caxis\":{\"gridcolor\":\"white\",\"linecolor\":\"white\",\"ticks\":\"\"}},\"coloraxis\":{\"colorbar\":{\"outlinewidth\":0,\"ticks\":\"\"}},\"colorscale\":{\"sequential\":[[0.0,\"#0d0887\"],[0.1111111111111111,\"#46039f\"],[0.2222222222222222,\"#7201a8\"],[0.3333333333333333,\"#9c179e\"],[0.4444444444444444,\"#bd3786\"],[0.5555555555555556,\"#d8576b\"],[0.6666666666666666,\"#ed7953\"],[0.7777777777777778,\"#fb9f3a\"],[0.8888888888888888,\"#fdca26\"],[1.0,\"#f0f921\"]],\"sequentialminus\":[[0.0,\"#0d0887\"],[0.1111111111111111,\"#46039f\"],[0.2222222222222222,\"#7201a8\"],[0.3333333333333333,\"#9c179e\"],[0.4444444444444444,\"#bd3786\"],[0.5555555555555556,\"#d8576b\"],[0.6666666666666666,\"#ed7953\"],[0.7777777777777778,\"#fb9f3a\"],[0.8888888888888888,\"#fdca26\"],[1.0,\"#f0f921\"]],\"diverging\":[[0,\"#8e0152\"],[0.1,\"#c51b7d\"],[0.2,\"#de77ae\"],[0.3,\"#f1b6da\"],[0.4,\"#fde0ef\"],[0.5,\"#f7f7f7\"],[0.6,\"#e6f5d0\"],[0.7,\"#b8e186\"],[0.8,\"#7fbc41\"],[0.9,\"#4d9221\"],[1,\"#276419\"]]},\"xaxis\":{\"gridcolor\":\"white\",\"linecolor\":\"white\",\"ticks\":\"\",\"title\":{\"standoff\":15},\"zerolinecolor\":\"white\",\"automargin\":true,\"zerolinewidth\":2},\"yaxis\":{\"gridcolor\":\"white\",\"linecolor\":\"white\",\"ticks\":\"\",\"title\":{\"standoff\":15},\"zerolinecolor\":\"white\",\"automargin\":true,\"zerolinewidth\":2},\"scene\":{\"xaxis\":{\"backgroundcolor\":\"#E5ECF6\",\"gridcolor\":\"white\",\"linecolor\":\"white\",\"showbackground\":true,\"ticks\":\"\",\"zerolinecolor\":\"white\",\"gridwidth\":2},\"yaxis\":{\"backgroundcolor\":\"#E5ECF6\",\"gridcolor\":\"white\",\"linecolor\":\"white\",\"showbackground\":true,\"ticks\":\"\",\"zerolinecolor\":\"white\",\"gridwidth\":2},\"zaxis\":{\"backgroundcolor\":\"#E5ECF6\",\"gridcolor\":\"white\",\"linecolor\":\"white\",\"showbackground\":true,\"ticks\":\"\",\"zerolinecolor\":\"white\",\"gridwidth\":2}},\"shapedefaults\":{\"line\":{\"color\":\"#2a3f5f\"}},\"annotationdefaults\":{\"arrowcolor\":\"#2a3f5f\",\"arrowhead\":0,\"arrowwidth\":1},\"geo\":{\"bgcolor\":\"white\",\"landcolor\":\"#E5ECF6\",\"subunitcolor\":\"white\",\"showland\":true,\"showlakes\":true,\"lakecolor\":\"white\"},\"title\":{\"x\":0.05},\"mapbox\":{\"style\":\"light\"}}},\"xaxis\":{\"anchor\":\"y\",\"domain\":[0.0,0.45],\"title\":{\"text\":\"Words\"}},\"yaxis\":{\"anchor\":\"x\",\"domain\":[0.625,1.0],\"title\":{\"text\":\"Occurrence Frequency\"}},\"xaxis2\":{\"anchor\":\"y2\",\"domain\":[0.55,1.0],\"title\":{\"text\":\"Words\"}},\"yaxis2\":{\"anchor\":\"x2\",\"domain\":[0.625,1.0]},\"xaxis3\":{\"anchor\":\"y3\",\"domain\":[0.0,0.45],\"title\":{\"text\":\"Words\"}},\"yaxis3\":{\"anchor\":\"x3\",\"domain\":[0.0,0.375],\"title\":{\"text\":\"Occurrence Frequency\"}},\"xaxis4\":{\"anchor\":\"y4\",\"domain\":[0.55,1.0],\"title\":{\"text\":\"Words\"}},\"yaxis4\":{\"anchor\":\"x4\",\"domain\":[0.0,0.375]},\"annotations\":[{\"font\":{\"size\":16},\"showarrow\":false,\"text\":\"Unprocessed Emma\",\"x\":0.225,\"xanchor\":\"center\",\"xref\":\"paper\",\"y\":1.0,\"yanchor\":\"bottom\",\"yref\":\"paper\"},{\"font\":{\"size\":16},\"showarrow\":false,\"text\":\"Unprocessed TP001\",\"x\":0.775,\"xanchor\":\"center\",\"xref\":\"paper\",\"y\":1.0,\"yanchor\":\"bottom\",\"yref\":\"paper\"},{\"font\":{\"size\":16},\"showarrow\":false,\"text\":\"Processed Emma\",\"x\":0.225,\"xanchor\":\"center\",\"xref\":\"paper\",\"y\":0.375,\"yanchor\":\"bottom\",\"yref\":\"paper\"},{\"font\":{\"size\":16},\"showarrow\":false,\"text\":\"Processed TP001\",\"x\":0.775,\"xanchor\":\"center\",\"xref\":\"paper\",\"y\":0.375,\"yanchor\":\"bottom\",\"yref\":\"paper\"}],\"title\":{\"text\":\"Top Ten Words and Their Frequencies\"},\"showlegend\":false,\"height\":800,\"width\":1200},                        {\"responsive\": true}                    ).then(function(){\n",
              "                            \n",
              "var gd = document.getElementById('4cc38de9-d25c-42c1-90bd-a91b5cb04103');\n",
              "var x = new MutationObserver(function (mutations, observer) {{\n",
              "        var display = window.getComputedStyle(gd).display;\n",
              "        if (!display || display === 'none') {{\n",
              "            console.log([gd, 'removed!']);\n",
              "            Plotly.purge(gd);\n",
              "            observer.disconnect();\n",
              "        }}\n",
              "}});\n",
              "\n",
              "// Listen for the removal of the full notebook cells\n",
              "var notebookContainer = gd.closest('#notebook-container');\n",
              "if (notebookContainer) {{\n",
              "    x.observe(notebookContainer, {childList: true});\n",
              "}}\n",
              "\n",
              "// Listen for the clearing of the current output cell\n",
              "var outputEl = gd.closest('.output');\n",
              "if (outputEl) {{\n",
              "    x.observe(outputEl, {childList: true});\n",
              "}}\n",
              "\n",
              "                        })                };                            </script>        </div>\n",
              "</body>\n",
              "</html>"
            ]
          },
          "metadata": {}
        }
      ],
      "source": [
        "# Create a subplot figure with 2 rows and 2 columns\n",
        "fig = make_subplots(\n",
        "    rows=2, cols=2,\n",
        "    subplot_titles=('Unprocessed Emma', 'Unprocessed TP001', 'Processed Emma', 'Processed TP001')\n",
        ")\n",
        "\n",
        "# Original Emma\n",
        "fig.add_trace(\n",
        "    go.Bar(x=emma_top_ten_words, y=emma_frequencies),\n",
        "    row=1, col=1\n",
        ")\n",
        "\n",
        "# Original TP001\n",
        "fig.add_trace(\n",
        "    go.Bar(x=tp001_top_ten_words, y=tp001_frequencies),\n",
        "    row=1, col=2\n",
        ")\n",
        "\n",
        "# Preprocessed Emma\n",
        "fig.add_trace(\n",
        "    go.Bar(x=preprocessed_emma_top_ten, y=preprocessed_emma_freq),\n",
        "    row=2, col=1\n",
        ")\n",
        "\n",
        "# Preprocessed TP001\n",
        "fig.add_trace(\n",
        "    go.Bar(x=preprocessed_tp001_top_ten, y=preprocessed_tp001_freq),\n",
        "    row=2, col=2\n",
        ")\n",
        "\n",
        "# Update layout\n",
        "fig.update_layout(\n",
        "    title_text='Top Ten Words and Their Frequencies',\n",
        "    showlegend=False,\n",
        "    height=800, width=1200\n",
        ")\n",
        "\n",
        "# Customize axis labels\n",
        "fig.update_xaxes(title_text='Words', row=1, col=1)\n",
        "fig.update_xaxes(title_text='Words', row=1, col=2)\n",
        "fig.update_xaxes(title_text='Words', row=2, col=1)\n",
        "fig.update_xaxes(title_text='Words', row=2, col=2)\n",
        "fig.update_yaxes(title_text='Occurrence Frequency', col=1)\n",
        "\n",
        "# Show the figure\n",
        "fig.show()"
      ]
    },
    {
      "cell_type": "markdown",
      "metadata": {
        "id": "3CnO9l6vbV9b"
      },
      "source": [
        "## **Comparative Analysis of Overall Lexical Diversity in Processed and Unprocessed Versions of \"Emma\" by Jane Austen.**\n",
        "\n",
        "The results of the analysis below show the overall lexical diversity of Jane Austen's \"Emma\" in both its processed and unprocessed forms as the batch size (number of sentences per batch) increases. It demonstrates how lexical diversity decreases as the size of the text increases.\n",
        "\n",
        "**Processed Overall Lexical Diversity (Blue):** As the batch size increases, we observe a gradual decrease in lexical diversity for the processed version. This trend indicates that when analyzing larger portions of the text together, the processed version becomes less lexically diverse. This may be attributed to the removal of high-frequency words during processing, which results in a more focused vocabulary.\n",
        "\n",
        "**Unprocessed Overall Lexical Diversity (Red):** The red line represents the lexical diversity of the original, unprocessed text. Similarly, as the batch size increases, we also see a decrease in lexical diversity for the unprocessed version. This decrease suggests that even in the unprocessed text, certain words become more prominent and repetitive when analyzing larger sections of the text. However, the unprocessed text tends to maintain a higher lexical diversity compared to the processed version, as it retains all words without filtering.\n",
        "\n",
        "In summary, the overall lexical diversity highlights how text processing affects the diversity of words in a text, particularly as the scale increases. While both processed and unprocessed texts exhibit a decrease in lexical diversity with larger batch sizes, the processed version tends to show a more pronounced decrease due to the removal of high-frequency words. Understanding these trends can aid in choosing the appropriate preprocessing strategy based on the specific goals of text analysis.\n",
        "\n",
        "**Note:** Due to the nature of the task, this section can take a while to run (typically < 2 minutes)."
      ]
    },
    {
      "cell_type": "code",
      "execution_count": null,
      "metadata": {
        "id": "XrH5B2OcbdOT"
      },
      "outputs": [],
      "source": [
        "increment = 75  # n sentences per increment\n",
        "batch_sizes = list(range(1, emma_num_sentences, increment))  # Incrementally increase batch size\n",
        "\n",
        "overall_lex_div_unprocessed = []\n",
        "overall_lex_div_processed = []\n",
        "\n",
        "# Split the text into sentences\n",
        "sentences = sent_tokenize(emma_text)\n",
        "\n",
        "# Calculate lexical diversities\n",
        "for batch_size in batch_sizes:\n",
        "    # Concatenate all sentences up to the current batch size\n",
        "    concatenated_unprocessed = ' '.join(sentences[:batch_size])\n",
        "    concatenated_processed = preprocess_text(concatenated_unprocessed, stop_words, std_dev_margin)[0]\n",
        "\n",
        "    # Calculate overall lexical diversity for the concatenated text\n",
        "    overall_lex_div_unprocessed.append(text_metrics(concatenated_unprocessed)[1])\n",
        "    overall_lex_div_processed.append(text_metrics(concatenated_processed)[1])"
      ]
    },
    {
      "cell_type": "code",
      "execution_count": null,
      "metadata": {
        "colab": {
          "base_uri": "https://localhost:8080/",
          "height": 837
        },
        "id": "kncVNwO_y_L3",
        "outputId": "26b111c7-a93a-40ef-9e61-4f989e2a652a"
      },
      "outputs": [
        {
          "output_type": "display_data",
          "data": {
            "text/html": [
              "<html>\n",
              "<head><meta charset=\"utf-8\" /></head>\n",
              "<body>\n",
              "    <div>            <script src=\"https://cdnjs.cloudflare.com/ajax/libs/mathjax/2.7.5/MathJax.js?config=TeX-AMS-MML_SVG\"></script><script type=\"text/javascript\">if (window.MathJax && window.MathJax.Hub && window.MathJax.Hub.Config) {window.MathJax.Hub.Config({SVG: {font: \"STIX-Web\"}});}</script>                <script type=\"text/javascript\">window.PlotlyConfig = {MathJaxConfig: 'local'};</script>\n",
              "        <script charset=\"utf-8\" src=\"https://cdn.plot.ly/plotly-2.24.1.min.js\"></script>                <div id=\"931a4186-dfd3-4dc8-ab5c-7f69bf9504aa\" class=\"plotly-graph-div\" style=\"height:525px; width:100%;\"></div>            <script type=\"text/javascript\">                                    window.PLOTLYENV=window.PLOTLYENV || {};                                    if (document.getElementById(\"931a4186-dfd3-4dc8-ab5c-7f69bf9504aa\")) {                    Plotly.newPlot(                        \"931a4186-dfd3-4dc8-ab5c-7f69bf9504aa\",                        [{\"mode\":\"lines\",\"name\":\"Overall Lexical Diversity (Processed)\",\"x\":[1,76,151,226,301,376,451,526,601,676,751,826,901,976,1051,1126,1201,1276,1351,1426,1501,1576,1651,1726,1801,1876,1951,2026,2101,2176,2251,2326,2401,2476,2551,2626,2701,2776,2851,2926,3001,3076,3151,3226,3301,3376,3451,3526,3601,3676,3751,3826,3901,3976,4051,4126,4201,4276,4351,4426,4501,4576,4651,4726,4801,4876,4951,5026,5101,5176,5251,5326,5401,5476,5551,5626,5701,5776,5851,5926,6001,6076,6151,6226,6301,6376,6451,6526,6601,6676,6751,6826,6901,6976,7051,7126,7201,7276,7351,7426,7501,7576,7651,7726,7801,7876,7951,8026,8101,8176,8251,8326,8401,8476,8551,8626,8701,8776,8851,8926,9001,9076,9151,9226,9301,9376,9451,9526,9601,9676,9751,9826,9901,9976,10051,10126,10201,10276,10351,10426,10501],\"y\":[100.0,65.30864197530865,53.940708604483014,46.184901090028255,43.070422535211264,40.55772994129158,38.912763214439195,37.084447841039356,35.690930992944416,34.71406491499227,33.6794197127009,32.747837658017296,31.75859510264655,30.64929020246684,29.53713670613563,28.882538431217974,28.392823057835464,27.884353123011184,27.42638090259627,26.771139405811294,26.35171001744142,25.71305099394987,25.332967183852805,24.82622950819672,24.201165286721864,23.589355383450766,23.00727656501694,22.647731503643424,22.26094862858009,21.83471233403887,21.487103082223673,21.097539069516795,20.734715070745533,20.4539785482664,20.280544826184183,20.05653091285481,19.840844747111486,19.633556204056003,19.233377351083195,19.025118993850537,18.791059939045038,18.551587301587304,18.304375804375805,18.09906459915877,17.95053876316033,17.81593531389116,17.709664952284687,17.555711528338307,17.45459786682041,17.32027069116856,17.207045492791835,17.081909381545586,16.97215272489938,16.821103374397428,16.708018793221772,16.54885976679393,16.401580386992197,16.297440753569738,16.223810697559774,16.132933436532507,16.03416688477004,15.902763154816219,15.814383008195776,15.706758720930234,15.612427358068842,15.534409290618859,15.40452933626297,15.27030214654858,15.244109171045938,15.141028580958535,15.095114836271007,15.020601066408142,14.93143017072488,14.824467875054298,14.739016879117454,14.679730746234112,14.649946174620862,14.618287806883151,14.551278490621932,14.515714495520635,14.446710119069293,14.37030904083947,14.245423584504044,14.171216575668485,14.102121191183583,14.043732676316601,13.951486301716717,13.890096658751128,13.820176735324068,13.713278115698202,13.659369960562662,13.626194834248526,13.537479672302169,13.48270201252508,13.406958971438845,13.363679497064233,13.32196964130898,13.229983903012021,13.178472861085558,13.134651547096702,13.103584199115916,13.103584199115916,13.103584199115916,13.103584199115916,13.103584199115916,13.103584199115916,13.103584199115916,13.103584199115916,13.103584199115916,13.103584199115916,13.103584199115916,13.103584199115916,13.103584199115916,13.103584199115916,13.103584199115916,13.103584199115916,13.103584199115916,13.103584199115916,13.103584199115916,13.103584199115916,13.103584199115916,13.103584199115916,13.103584199115916,13.103584199115916,13.103584199115916,13.103584199115916,13.103584199115916,13.103584199115916,13.103584199115916,13.103584199115916,13.103584199115916,13.103584199115916,13.103584199115916,13.103584199115916,13.103584199115916,13.103584199115916,13.103584199115916,13.103584199115916,13.103584199115916,13.103584199115916,13.103584199115916],\"type\":\"scatter\"},{\"mode\":\"lines\",\"name\":\"Overall Lexical Diversity (Unprocessed)\",\"x\":[1,76,151,226,301,376,451,526,601,676,751,826,901,976,1051,1126,1201,1276,1351,1426,1501,1576,1651,1726,1801,1876,1951,2026,2101,2176,2251,2326,2401,2476,2551,2626,2701,2776,2851,2926,3001,3076,3151,3226,3301,3376,3451,3526,3601,3676,3751,3826,3901,3976,4051,4126,4201,4276,4351,4426,4501,4576,4651,4726,4801,4876,4951,5026,5101,5176,5251,5326,5401,5476,5551,5626,5701,5776,5851,5926,6001,6076,6151,6226,6301,6376,6451,6526,6601,6676,6751,6826,6901,6976,7051,7126,7201,7276,7351,7426,7501,7576,7651,7726,7801,7876,7951,8026,8101,8176,8251,8326,8401,8476,8551,8626,8701,8776,8851,8926,9001,9076,9151,9226,9301,9376,9451,9526,9601,9676,9751,9826,9901,9976,10051,10126,10201,10276,10351,10426,10501],\"y\":[84.0,33.551198257080614,26.606683804627252,21.7720151269584,20.112517580872012,18.480402890299978,17.499043245311903,16.50386477533339,15.746592553110487,15.10012259910094,14.58398645683115,13.978431944039638,13.5256549036588,12.961460446247465,12.395419490535172,12.118484224965705,11.870175147339587,11.60061638152436,11.299882961452788,11.011873117136275,10.85881887687846,10.538862053823474,10.316652699628875,10.063450325825997,9.787984920995642,9.499530730791669,9.235792019347038,9.068179187405951,8.854864573951629,8.668562348415154,8.518810520144743,8.319370299653198,8.15870512242752,8.050357633118994,7.947359123829711,7.828164770661264,7.703190798781605,7.605724392989227,7.449522446566904,7.353899795346017,7.238281019093219,7.144507001587989,7.036262301526021,6.951029020854457,6.862679045450258,6.797117736497653,6.755825892567032,6.678178562292146,6.627660647634419,6.578784196036608,6.527697545507061,6.470396366140354,6.416691505216095,6.361520558572536,6.303582186384911,6.231400282885431,6.156751652502361,6.117027092034198,6.086081537263048,6.042706894720068,6.003012489278467,5.94602380878888,5.90392037375584,5.8514358800135895,5.7989830141728875,5.760865343535169,5.706446401086032,5.655379162110185,5.620512820512821,5.572690055258762,5.542033496502864,5.495560355171587,5.452435174845466,5.404630803703253,5.374130403081225,5.3515936762383465,5.32736411144027,5.298558456206212,5.272948298509411,5.256046152227913,5.22927753296893,5.194722770941921,5.1384141237944005,5.103505765757421,5.058623658207693,5.023161770253346,4.985671219621125,4.948699805413055,4.899045800146133,4.847759833660885,4.802775748721695,4.756010342740826,4.715461402101602,4.683660933660934,4.651147480546157,4.6217173822426005,4.600192212181609,4.552511357418272,4.521643752718471,4.498797363571049,4.479482414821309,4.479482414821309,4.479482414821309,4.479482414821309,4.479482414821309,4.479482414821309,4.479482414821309,4.479482414821309,4.479482414821309,4.479482414821309,4.479482414821309,4.479482414821309,4.479482414821309,4.479482414821309,4.479482414821309,4.479482414821309,4.479482414821309,4.479482414821309,4.479482414821309,4.479482414821309,4.479482414821309,4.479482414821309,4.479482414821309,4.479482414821309,4.479482414821309,4.479482414821309,4.479482414821309,4.479482414821309,4.479482414821309,4.479482414821309,4.479482414821309,4.479482414821309,4.479482414821309,4.479482414821309,4.479482414821309,4.479482414821309,4.479482414821309,4.479482414821309,4.479482414821309,4.479482414821309,4.479482414821309],\"type\":\"scatter\"}],                        {\"title\":{\"text\":\"Overall Lexical Diversity over Size Increments of 75\"},\"xaxis\":{\"title\":{\"text\":\"Number of Sentences\"}},\"yaxis\":{\"title\":{\"text\":\"Lexical Diversity (%)\"}},\"template\":{\"data\":{\"histogram2dcontour\":[{\"type\":\"histogram2dcontour\",\"colorbar\":{\"outlinewidth\":0,\"ticks\":\"\"},\"colorscale\":[[0.0,\"#0d0887\"],[0.1111111111111111,\"#46039f\"],[0.2222222222222222,\"#7201a8\"],[0.3333333333333333,\"#9c179e\"],[0.4444444444444444,\"#bd3786\"],[0.5555555555555556,\"#d8576b\"],[0.6666666666666666,\"#ed7953\"],[0.7777777777777778,\"#fb9f3a\"],[0.8888888888888888,\"#fdca26\"],[1.0,\"#f0f921\"]]}],\"choropleth\":[{\"type\":\"choropleth\",\"colorbar\":{\"outlinewidth\":0,\"ticks\":\"\"}}],\"histogram2d\":[{\"type\":\"histogram2d\",\"colorbar\":{\"outlinewidth\":0,\"ticks\":\"\"},\"colorscale\":[[0.0,\"#0d0887\"],[0.1111111111111111,\"#46039f\"],[0.2222222222222222,\"#7201a8\"],[0.3333333333333333,\"#9c179e\"],[0.4444444444444444,\"#bd3786\"],[0.5555555555555556,\"#d8576b\"],[0.6666666666666666,\"#ed7953\"],[0.7777777777777778,\"#fb9f3a\"],[0.8888888888888888,\"#fdca26\"],[1.0,\"#f0f921\"]]}],\"heatmap\":[{\"type\":\"heatmap\",\"colorbar\":{\"outlinewidth\":0,\"ticks\":\"\"},\"colorscale\":[[0.0,\"#0d0887\"],[0.1111111111111111,\"#46039f\"],[0.2222222222222222,\"#7201a8\"],[0.3333333333333333,\"#9c179e\"],[0.4444444444444444,\"#bd3786\"],[0.5555555555555556,\"#d8576b\"],[0.6666666666666666,\"#ed7953\"],[0.7777777777777778,\"#fb9f3a\"],[0.8888888888888888,\"#fdca26\"],[1.0,\"#f0f921\"]]}],\"heatmapgl\":[{\"type\":\"heatmapgl\",\"colorbar\":{\"outlinewidth\":0,\"ticks\":\"\"},\"colorscale\":[[0.0,\"#0d0887\"],[0.1111111111111111,\"#46039f\"],[0.2222222222222222,\"#7201a8\"],[0.3333333333333333,\"#9c179e\"],[0.4444444444444444,\"#bd3786\"],[0.5555555555555556,\"#d8576b\"],[0.6666666666666666,\"#ed7953\"],[0.7777777777777778,\"#fb9f3a\"],[0.8888888888888888,\"#fdca26\"],[1.0,\"#f0f921\"]]}],\"contourcarpet\":[{\"type\":\"contourcarpet\",\"colorbar\":{\"outlinewidth\":0,\"ticks\":\"\"}}],\"contour\":[{\"type\":\"contour\",\"colorbar\":{\"outlinewidth\":0,\"ticks\":\"\"},\"colorscale\":[[0.0,\"#0d0887\"],[0.1111111111111111,\"#46039f\"],[0.2222222222222222,\"#7201a8\"],[0.3333333333333333,\"#9c179e\"],[0.4444444444444444,\"#bd3786\"],[0.5555555555555556,\"#d8576b\"],[0.6666666666666666,\"#ed7953\"],[0.7777777777777778,\"#fb9f3a\"],[0.8888888888888888,\"#fdca26\"],[1.0,\"#f0f921\"]]}],\"surface\":[{\"type\":\"surface\",\"colorbar\":{\"outlinewidth\":0,\"ticks\":\"\"},\"colorscale\":[[0.0,\"#0d0887\"],[0.1111111111111111,\"#46039f\"],[0.2222222222222222,\"#7201a8\"],[0.3333333333333333,\"#9c179e\"],[0.4444444444444444,\"#bd3786\"],[0.5555555555555556,\"#d8576b\"],[0.6666666666666666,\"#ed7953\"],[0.7777777777777778,\"#fb9f3a\"],[0.8888888888888888,\"#fdca26\"],[1.0,\"#f0f921\"]]}],\"mesh3d\":[{\"type\":\"mesh3d\",\"colorbar\":{\"outlinewidth\":0,\"ticks\":\"\"}}],\"scatter\":[{\"fillpattern\":{\"fillmode\":\"overlay\",\"size\":10,\"solidity\":0.2},\"type\":\"scatter\"}],\"parcoords\":[{\"type\":\"parcoords\",\"line\":{\"colorbar\":{\"outlinewidth\":0,\"ticks\":\"\"}}}],\"scatterpolargl\":[{\"type\":\"scatterpolargl\",\"marker\":{\"colorbar\":{\"outlinewidth\":0,\"ticks\":\"\"}}}],\"bar\":[{\"error_x\":{\"color\":\"#2a3f5f\"},\"error_y\":{\"color\":\"#2a3f5f\"},\"marker\":{\"line\":{\"color\":\"#E5ECF6\",\"width\":0.5},\"pattern\":{\"fillmode\":\"overlay\",\"size\":10,\"solidity\":0.2}},\"type\":\"bar\"}],\"scattergeo\":[{\"type\":\"scattergeo\",\"marker\":{\"colorbar\":{\"outlinewidth\":0,\"ticks\":\"\"}}}],\"scatterpolar\":[{\"type\":\"scatterpolar\",\"marker\":{\"colorbar\":{\"outlinewidth\":0,\"ticks\":\"\"}}}],\"histogram\":[{\"marker\":{\"pattern\":{\"fillmode\":\"overlay\",\"size\":10,\"solidity\":0.2}},\"type\":\"histogram\"}],\"scattergl\":[{\"type\":\"scattergl\",\"marker\":{\"colorbar\":{\"outlinewidth\":0,\"ticks\":\"\"}}}],\"scatter3d\":[{\"type\":\"scatter3d\",\"line\":{\"colorbar\":{\"outlinewidth\":0,\"ticks\":\"\"}},\"marker\":{\"colorbar\":{\"outlinewidth\":0,\"ticks\":\"\"}}}],\"scattermapbox\":[{\"type\":\"scattermapbox\",\"marker\":{\"colorbar\":{\"outlinewidth\":0,\"ticks\":\"\"}}}],\"scatterternary\":[{\"type\":\"scatterternary\",\"marker\":{\"colorbar\":{\"outlinewidth\":0,\"ticks\":\"\"}}}],\"scattercarpet\":[{\"type\":\"scattercarpet\",\"marker\":{\"colorbar\":{\"outlinewidth\":0,\"ticks\":\"\"}}}],\"carpet\":[{\"aaxis\":{\"endlinecolor\":\"#2a3f5f\",\"gridcolor\":\"white\",\"linecolor\":\"white\",\"minorgridcolor\":\"white\",\"startlinecolor\":\"#2a3f5f\"},\"baxis\":{\"endlinecolor\":\"#2a3f5f\",\"gridcolor\":\"white\",\"linecolor\":\"white\",\"minorgridcolor\":\"white\",\"startlinecolor\":\"#2a3f5f\"},\"type\":\"carpet\"}],\"table\":[{\"cells\":{\"fill\":{\"color\":\"#EBF0F8\"},\"line\":{\"color\":\"white\"}},\"header\":{\"fill\":{\"color\":\"#C8D4E3\"},\"line\":{\"color\":\"white\"}},\"type\":\"table\"}],\"barpolar\":[{\"marker\":{\"line\":{\"color\":\"#E5ECF6\",\"width\":0.5},\"pattern\":{\"fillmode\":\"overlay\",\"size\":10,\"solidity\":0.2}},\"type\":\"barpolar\"}],\"pie\":[{\"automargin\":true,\"type\":\"pie\"}]},\"layout\":{\"autotypenumbers\":\"strict\",\"colorway\":[\"#636efa\",\"#EF553B\",\"#00cc96\",\"#ab63fa\",\"#FFA15A\",\"#19d3f3\",\"#FF6692\",\"#B6E880\",\"#FF97FF\",\"#FECB52\"],\"font\":{\"color\":\"#2a3f5f\"},\"hovermode\":\"closest\",\"hoverlabel\":{\"align\":\"left\"},\"paper_bgcolor\":\"white\",\"plot_bgcolor\":\"#E5ECF6\",\"polar\":{\"bgcolor\":\"#E5ECF6\",\"angularaxis\":{\"gridcolor\":\"white\",\"linecolor\":\"white\",\"ticks\":\"\"},\"radialaxis\":{\"gridcolor\":\"white\",\"linecolor\":\"white\",\"ticks\":\"\"}},\"ternary\":{\"bgcolor\":\"#E5ECF6\",\"aaxis\":{\"gridcolor\":\"white\",\"linecolor\":\"white\",\"ticks\":\"\"},\"baxis\":{\"gridcolor\":\"white\",\"linecolor\":\"white\",\"ticks\":\"\"},\"caxis\":{\"gridcolor\":\"white\",\"linecolor\":\"white\",\"ticks\":\"\"}},\"coloraxis\":{\"colorbar\":{\"outlinewidth\":0,\"ticks\":\"\"}},\"colorscale\":{\"sequential\":[[0.0,\"#0d0887\"],[0.1111111111111111,\"#46039f\"],[0.2222222222222222,\"#7201a8\"],[0.3333333333333333,\"#9c179e\"],[0.4444444444444444,\"#bd3786\"],[0.5555555555555556,\"#d8576b\"],[0.6666666666666666,\"#ed7953\"],[0.7777777777777778,\"#fb9f3a\"],[0.8888888888888888,\"#fdca26\"],[1.0,\"#f0f921\"]],\"sequentialminus\":[[0.0,\"#0d0887\"],[0.1111111111111111,\"#46039f\"],[0.2222222222222222,\"#7201a8\"],[0.3333333333333333,\"#9c179e\"],[0.4444444444444444,\"#bd3786\"],[0.5555555555555556,\"#d8576b\"],[0.6666666666666666,\"#ed7953\"],[0.7777777777777778,\"#fb9f3a\"],[0.8888888888888888,\"#fdca26\"],[1.0,\"#f0f921\"]],\"diverging\":[[0,\"#8e0152\"],[0.1,\"#c51b7d\"],[0.2,\"#de77ae\"],[0.3,\"#f1b6da\"],[0.4,\"#fde0ef\"],[0.5,\"#f7f7f7\"],[0.6,\"#e6f5d0\"],[0.7,\"#b8e186\"],[0.8,\"#7fbc41\"],[0.9,\"#4d9221\"],[1,\"#276419\"]]},\"xaxis\":{\"gridcolor\":\"white\",\"linecolor\":\"white\",\"ticks\":\"\",\"title\":{\"standoff\":15},\"zerolinecolor\":\"white\",\"automargin\":true,\"zerolinewidth\":2},\"yaxis\":{\"gridcolor\":\"white\",\"linecolor\":\"white\",\"ticks\":\"\",\"title\":{\"standoff\":15},\"zerolinecolor\":\"white\",\"automargin\":true,\"zerolinewidth\":2},\"scene\":{\"xaxis\":{\"backgroundcolor\":\"#E5ECF6\",\"gridcolor\":\"white\",\"linecolor\":\"white\",\"showbackground\":true,\"ticks\":\"\",\"zerolinecolor\":\"white\",\"gridwidth\":2},\"yaxis\":{\"backgroundcolor\":\"#E5ECF6\",\"gridcolor\":\"white\",\"linecolor\":\"white\",\"showbackground\":true,\"ticks\":\"\",\"zerolinecolor\":\"white\",\"gridwidth\":2},\"zaxis\":{\"backgroundcolor\":\"#E5ECF6\",\"gridcolor\":\"white\",\"linecolor\":\"white\",\"showbackground\":true,\"ticks\":\"\",\"zerolinecolor\":\"white\",\"gridwidth\":2}},\"shapedefaults\":{\"line\":{\"color\":\"#2a3f5f\"}},\"annotationdefaults\":{\"arrowcolor\":\"#2a3f5f\",\"arrowhead\":0,\"arrowwidth\":1},\"geo\":{\"bgcolor\":\"white\",\"landcolor\":\"#E5ECF6\",\"subunitcolor\":\"white\",\"showland\":true,\"showlakes\":true,\"lakecolor\":\"white\"},\"title\":{\"x\":0.05},\"mapbox\":{\"style\":\"light\"}}}},                        {\"responsive\": true}                    ).then(function(){\n",
              "                            \n",
              "var gd = document.getElementById('931a4186-dfd3-4dc8-ab5c-7f69bf9504aa');\n",
              "var x = new MutationObserver(function (mutations, observer) {{\n",
              "        var display = window.getComputedStyle(gd).display;\n",
              "        if (!display || display === 'none') {{\n",
              "            console.log([gd, 'removed!']);\n",
              "            Plotly.purge(gd);\n",
              "            observer.disconnect();\n",
              "        }}\n",
              "}});\n",
              "\n",
              "// Listen for the removal of the full notebook cells\n",
              "var notebookContainer = gd.closest('#notebook-container');\n",
              "if (notebookContainer) {{\n",
              "    x.observe(notebookContainer, {childList: true});\n",
              "}}\n",
              "\n",
              "// Listen for the clearing of the current output cell\n",
              "var outputEl = gd.closest('.output');\n",
              "if (outputEl) {{\n",
              "    x.observe(outputEl, {childList: true});\n",
              "}}\n",
              "\n",
              "                        })                };                            </script>        </div>\n",
              "</body>\n",
              "</html>"
            ]
          },
          "metadata": {}
        },
        {
          "output_type": "stream",
          "name": "stdout",
          "text": [
            "\n",
            "--------- Text Metrics for Emma (Unprocessed) ---------\n",
            "Total Words: 161983\n",
            "Total Sentences: 10567\n",
            "Overall Lexical Diversity: 4.48%\n",
            "Average Lexical Diversity of Sentences: 94.43%\n",
            "Top Ten Most Frequent Words: to, the, and, of, i, a, it, her, was, she\n",
            "Highest Frequency Word: 'to' (Frequency: 5239)\n",
            "\n",
            "--------- Text Metrics for Emma (Processed) ---------\n",
            "Total Words: 71031\n",
            "Total Sentences: 1\n",
            "Overall Lexical Diversity: 13.14%\n",
            "Average Lexical Diversity of Sentences: 13.14%\n",
            "Top Ten Most Frequent Words: would, emma, mrs, miss, must, much, said, every, one, harriet\n",
            "Highest Frequency Word: 'would' (Frequency: 816)\n",
            "\n"
          ]
        }
      ],
      "source": [
        "# Prepare batch size labels with sentence count\n",
        "batch_size_labels = [batch_size for batch_size in batch_sizes]\n",
        "\n",
        "# Convert lexical diversity to percentages\n",
        "processed_lex_div = [ld * 100 for ld in overall_lex_div_processed]\n",
        "unprocessed_lex_div = [ld * 100 for ld in overall_lex_div_unprocessed]\n",
        "\n",
        "# Create traces\n",
        "trace1 = go.Scatter(\n",
        "    x=batch_size_labels,\n",
        "    y=processed_lex_div,\n",
        "    mode='lines',\n",
        "    name='Overall Lexical Diversity (Processed)',\n",
        ")\n",
        "trace2 = go.Scatter(\n",
        "    x=batch_size_labels,\n",
        "    y=unprocessed_lex_div,\n",
        "    mode='lines',\n",
        "    name='Overall Lexical Diversity (Unprocessed)',\n",
        ")\n",
        "\n",
        "# Layout\n",
        "layout = go.Layout(\n",
        "    title='Overall Lexical Diversity over Size Increments of ' + str(increment),\n",
        "    xaxis=dict(title='Number of Sentences'),\n",
        "    yaxis=dict(title='Lexical Diversity (%)'),\n",
        ")\n",
        "\n",
        "# Figure\n",
        "fig = go.Figure(data=[trace1, trace2], layout=layout)\n",
        "\n",
        "# Show plot\n",
        "fig.show()\n",
        "\n",
        "# Print metrics (assuming format_metrics is defined)\n",
        "print(\"\\n\" + format_metrics(\"Emma (Unprocessed)\", emma_metrics) + \"\\n\")\n",
        "print(format_metrics(\"Emma (Processed)\", preprocessed_emma_metrics) + \"\\n\")\n"
      ]
    },
    {
      "cell_type": "markdown",
      "metadata": {
        "id": "tb7hQlf4PWOK"
      },
      "source": [
        "## Visualization of the Statistical Approach to Word Removal"
      ]
    }
  ],
  "metadata": {
    "colab": {
      "provenance": [],
      "gpuType": "T4",
      "authorship_tag": "ABX9TyO2EEyvSVai8fXC8A736gjN",
      "include_colab_link": true
    },
    "kernelspec": {
      "display_name": "Python 3",
      "name": "python3"
    },
    "language_info": {
      "name": "python"
    },
    "accelerator": "GPU",
    "widgets": {
      "application/vnd.jupyter.widget-state+json": {
        "5c113b6a2a98402ab9d4dfe14873098b": {
          "model_module": "@jupyter-widgets/controls",
          "model_name": "HBoxModel",
          "model_module_version": "1.5.0",
          "state": {
            "_dom_classes": [],
            "_model_module": "@jupyter-widgets/controls",
            "_model_module_version": "1.5.0",
            "_model_name": "HBoxModel",
            "_view_count": null,
            "_view_module": "@jupyter-widgets/controls",
            "_view_module_version": "1.5.0",
            "_view_name": "HBoxView",
            "box_style": "",
            "children": [
              "IPY_MODEL_1563941d6bc84918bd28058219aa0a6f",
              "IPY_MODEL_a48995a9bd2244f39527667aa2e7a73b",
              "IPY_MODEL_d53bd25586844a4aa9b15957e4a1f293"
            ],
            "layout": "IPY_MODEL_11b22a491f2b4ae58de80564e2b28da1"
          }
        },
        "1563941d6bc84918bd28058219aa0a6f": {
          "model_module": "@jupyter-widgets/controls",
          "model_name": "HTMLModel",
          "model_module_version": "1.5.0",
          "state": {
            "_dom_classes": [],
            "_model_module": "@jupyter-widgets/controls",
            "_model_module_version": "1.5.0",
            "_model_name": "HTMLModel",
            "_view_count": null,
            "_view_module": "@jupyter-widgets/controls",
            "_view_module_version": "1.5.0",
            "_view_name": "HTMLView",
            "description": "",
            "description_tooltip": null,
            "layout": "IPY_MODEL_a3044fcd546f4504b7e353ad52079941",
            "placeholder": "​",
            "style": "IPY_MODEL_aca4df91702c4d6396e989d41cc227ad",
            "value": "tokenizer_config.json: 100%"
          }
        },
        "a48995a9bd2244f39527667aa2e7a73b": {
          "model_module": "@jupyter-widgets/controls",
          "model_name": "FloatProgressModel",
          "model_module_version": "1.5.0",
          "state": {
            "_dom_classes": [],
            "_model_module": "@jupyter-widgets/controls",
            "_model_module_version": "1.5.0",
            "_model_name": "FloatProgressModel",
            "_view_count": null,
            "_view_module": "@jupyter-widgets/controls",
            "_view_module_version": "1.5.0",
            "_view_name": "ProgressView",
            "bar_style": "success",
            "description": "",
            "description_tooltip": null,
            "layout": "IPY_MODEL_39ee1e7509e74deaa8ed7f2141c601a7",
            "max": 28,
            "min": 0,
            "orientation": "horizontal",
            "style": "IPY_MODEL_0be3d685f6ea4f709e0626572e737ec4",
            "value": 28
          }
        },
        "d53bd25586844a4aa9b15957e4a1f293": {
          "model_module": "@jupyter-widgets/controls",
          "model_name": "HTMLModel",
          "model_module_version": "1.5.0",
          "state": {
            "_dom_classes": [],
            "_model_module": "@jupyter-widgets/controls",
            "_model_module_version": "1.5.0",
            "_model_name": "HTMLModel",
            "_view_count": null,
            "_view_module": "@jupyter-widgets/controls",
            "_view_module_version": "1.5.0",
            "_view_name": "HTMLView",
            "description": "",
            "description_tooltip": null,
            "layout": "IPY_MODEL_001dc1529eb142d28eb646d59208f8f2",
            "placeholder": "​",
            "style": "IPY_MODEL_6323e1ba706f467999e363be19c2ab88",
            "value": " 28.0/28.0 [00:00&lt;00:00, 523B/s]"
          }
        },
        "11b22a491f2b4ae58de80564e2b28da1": {
          "model_module": "@jupyter-widgets/base",
          "model_name": "LayoutModel",
          "model_module_version": "1.2.0",
          "state": {
            "_model_module": "@jupyter-widgets/base",
            "_model_module_version": "1.2.0",
            "_model_name": "LayoutModel",
            "_view_count": null,
            "_view_module": "@jupyter-widgets/base",
            "_view_module_version": "1.2.0",
            "_view_name": "LayoutView",
            "align_content": null,
            "align_items": null,
            "align_self": null,
            "border": null,
            "bottom": null,
            "display": null,
            "flex": null,
            "flex_flow": null,
            "grid_area": null,
            "grid_auto_columns": null,
            "grid_auto_flow": null,
            "grid_auto_rows": null,
            "grid_column": null,
            "grid_gap": null,
            "grid_row": null,
            "grid_template_areas": null,
            "grid_template_columns": null,
            "grid_template_rows": null,
            "height": null,
            "justify_content": null,
            "justify_items": null,
            "left": null,
            "margin": null,
            "max_height": null,
            "max_width": null,
            "min_height": null,
            "min_width": null,
            "object_fit": null,
            "object_position": null,
            "order": null,
            "overflow": null,
            "overflow_x": null,
            "overflow_y": null,
            "padding": null,
            "right": null,
            "top": null,
            "visibility": null,
            "width": null
          }
        },
        "a3044fcd546f4504b7e353ad52079941": {
          "model_module": "@jupyter-widgets/base",
          "model_name": "LayoutModel",
          "model_module_version": "1.2.0",
          "state": {
            "_model_module": "@jupyter-widgets/base",
            "_model_module_version": "1.2.0",
            "_model_name": "LayoutModel",
            "_view_count": null,
            "_view_module": "@jupyter-widgets/base",
            "_view_module_version": "1.2.0",
            "_view_name": "LayoutView",
            "align_content": null,
            "align_items": null,
            "align_self": null,
            "border": null,
            "bottom": null,
            "display": null,
            "flex": null,
            "flex_flow": null,
            "grid_area": null,
            "grid_auto_columns": null,
            "grid_auto_flow": null,
            "grid_auto_rows": null,
            "grid_column": null,
            "grid_gap": null,
            "grid_row": null,
            "grid_template_areas": null,
            "grid_template_columns": null,
            "grid_template_rows": null,
            "height": null,
            "justify_content": null,
            "justify_items": null,
            "left": null,
            "margin": null,
            "max_height": null,
            "max_width": null,
            "min_height": null,
            "min_width": null,
            "object_fit": null,
            "object_position": null,
            "order": null,
            "overflow": null,
            "overflow_x": null,
            "overflow_y": null,
            "padding": null,
            "right": null,
            "top": null,
            "visibility": null,
            "width": null
          }
        },
        "aca4df91702c4d6396e989d41cc227ad": {
          "model_module": "@jupyter-widgets/controls",
          "model_name": "DescriptionStyleModel",
          "model_module_version": "1.5.0",
          "state": {
            "_model_module": "@jupyter-widgets/controls",
            "_model_module_version": "1.5.0",
            "_model_name": "DescriptionStyleModel",
            "_view_count": null,
            "_view_module": "@jupyter-widgets/base",
            "_view_module_version": "1.2.0",
            "_view_name": "StyleView",
            "description_width": ""
          }
        },
        "39ee1e7509e74deaa8ed7f2141c601a7": {
          "model_module": "@jupyter-widgets/base",
          "model_name": "LayoutModel",
          "model_module_version": "1.2.0",
          "state": {
            "_model_module": "@jupyter-widgets/base",
            "_model_module_version": "1.2.0",
            "_model_name": "LayoutModel",
            "_view_count": null,
            "_view_module": "@jupyter-widgets/base",
            "_view_module_version": "1.2.0",
            "_view_name": "LayoutView",
            "align_content": null,
            "align_items": null,
            "align_self": null,
            "border": null,
            "bottom": null,
            "display": null,
            "flex": null,
            "flex_flow": null,
            "grid_area": null,
            "grid_auto_columns": null,
            "grid_auto_flow": null,
            "grid_auto_rows": null,
            "grid_column": null,
            "grid_gap": null,
            "grid_row": null,
            "grid_template_areas": null,
            "grid_template_columns": null,
            "grid_template_rows": null,
            "height": null,
            "justify_content": null,
            "justify_items": null,
            "left": null,
            "margin": null,
            "max_height": null,
            "max_width": null,
            "min_height": null,
            "min_width": null,
            "object_fit": null,
            "object_position": null,
            "order": null,
            "overflow": null,
            "overflow_x": null,
            "overflow_y": null,
            "padding": null,
            "right": null,
            "top": null,
            "visibility": null,
            "width": null
          }
        },
        "0be3d685f6ea4f709e0626572e737ec4": {
          "model_module": "@jupyter-widgets/controls",
          "model_name": "ProgressStyleModel",
          "model_module_version": "1.5.0",
          "state": {
            "_model_module": "@jupyter-widgets/controls",
            "_model_module_version": "1.5.0",
            "_model_name": "ProgressStyleModel",
            "_view_count": null,
            "_view_module": "@jupyter-widgets/base",
            "_view_module_version": "1.2.0",
            "_view_name": "StyleView",
            "bar_color": null,
            "description_width": ""
          }
        },
        "001dc1529eb142d28eb646d59208f8f2": {
          "model_module": "@jupyter-widgets/base",
          "model_name": "LayoutModel",
          "model_module_version": "1.2.0",
          "state": {
            "_model_module": "@jupyter-widgets/base",
            "_model_module_version": "1.2.0",
            "_model_name": "LayoutModel",
            "_view_count": null,
            "_view_module": "@jupyter-widgets/base",
            "_view_module_version": "1.2.0",
            "_view_name": "LayoutView",
            "align_content": null,
            "align_items": null,
            "align_self": null,
            "border": null,
            "bottom": null,
            "display": null,
            "flex": null,
            "flex_flow": null,
            "grid_area": null,
            "grid_auto_columns": null,
            "grid_auto_flow": null,
            "grid_auto_rows": null,
            "grid_column": null,
            "grid_gap": null,
            "grid_row": null,
            "grid_template_areas": null,
            "grid_template_columns": null,
            "grid_template_rows": null,
            "height": null,
            "justify_content": null,
            "justify_items": null,
            "left": null,
            "margin": null,
            "max_height": null,
            "max_width": null,
            "min_height": null,
            "min_width": null,
            "object_fit": null,
            "object_position": null,
            "order": null,
            "overflow": null,
            "overflow_x": null,
            "overflow_y": null,
            "padding": null,
            "right": null,
            "top": null,
            "visibility": null,
            "width": null
          }
        },
        "6323e1ba706f467999e363be19c2ab88": {
          "model_module": "@jupyter-widgets/controls",
          "model_name": "DescriptionStyleModel",
          "model_module_version": "1.5.0",
          "state": {
            "_model_module": "@jupyter-widgets/controls",
            "_model_module_version": "1.5.0",
            "_model_name": "DescriptionStyleModel",
            "_view_count": null,
            "_view_module": "@jupyter-widgets/base",
            "_view_module_version": "1.2.0",
            "_view_name": "StyleView",
            "description_width": ""
          }
        },
        "87baa364ae4c458785127ef70fb51cd1": {
          "model_module": "@jupyter-widgets/controls",
          "model_name": "HBoxModel",
          "model_module_version": "1.5.0",
          "state": {
            "_dom_classes": [],
            "_model_module": "@jupyter-widgets/controls",
            "_model_module_version": "1.5.0",
            "_model_name": "HBoxModel",
            "_view_count": null,
            "_view_module": "@jupyter-widgets/controls",
            "_view_module_version": "1.5.0",
            "_view_name": "HBoxView",
            "box_style": "",
            "children": [
              "IPY_MODEL_08005459dfb444e1841e2b2e29d8000d",
              "IPY_MODEL_01608e0b9a7a49af83f24197522bfd7c",
              "IPY_MODEL_6e942320fd5b48d29b31ccfccbb9c8e9"
            ],
            "layout": "IPY_MODEL_f398ec61a7c54fe78654ef6712867b15"
          }
        },
        "08005459dfb444e1841e2b2e29d8000d": {
          "model_module": "@jupyter-widgets/controls",
          "model_name": "HTMLModel",
          "model_module_version": "1.5.0",
          "state": {
            "_dom_classes": [],
            "_model_module": "@jupyter-widgets/controls",
            "_model_module_version": "1.5.0",
            "_model_name": "HTMLModel",
            "_view_count": null,
            "_view_module": "@jupyter-widgets/controls",
            "_view_module_version": "1.5.0",
            "_view_name": "HTMLView",
            "description": "",
            "description_tooltip": null,
            "layout": "IPY_MODEL_bf623787be224cd9a2560af42d754d5d",
            "placeholder": "​",
            "style": "IPY_MODEL_da8cd99af2ba45fbb610967ce23abca2",
            "value": "vocab.txt: 100%"
          }
        },
        "01608e0b9a7a49af83f24197522bfd7c": {
          "model_module": "@jupyter-widgets/controls",
          "model_name": "FloatProgressModel",
          "model_module_version": "1.5.0",
          "state": {
            "_dom_classes": [],
            "_model_module": "@jupyter-widgets/controls",
            "_model_module_version": "1.5.0",
            "_model_name": "FloatProgressModel",
            "_view_count": null,
            "_view_module": "@jupyter-widgets/controls",
            "_view_module_version": "1.5.0",
            "_view_name": "ProgressView",
            "bar_style": "success",
            "description": "",
            "description_tooltip": null,
            "layout": "IPY_MODEL_7cac8b7cc8334741b20bec3ab490978f",
            "max": 231508,
            "min": 0,
            "orientation": "horizontal",
            "style": "IPY_MODEL_588b72a45abb4f4b918a4dbda9d4943b",
            "value": 231508
          }
        },
        "6e942320fd5b48d29b31ccfccbb9c8e9": {
          "model_module": "@jupyter-widgets/controls",
          "model_name": "HTMLModel",
          "model_module_version": "1.5.0",
          "state": {
            "_dom_classes": [],
            "_model_module": "@jupyter-widgets/controls",
            "_model_module_version": "1.5.0",
            "_model_name": "HTMLModel",
            "_view_count": null,
            "_view_module": "@jupyter-widgets/controls",
            "_view_module_version": "1.5.0",
            "_view_name": "HTMLView",
            "description": "",
            "description_tooltip": null,
            "layout": "IPY_MODEL_0e818bce337543deaa36114e17753c02",
            "placeholder": "​",
            "style": "IPY_MODEL_ddd69f4bdac34bcda9a9c009115e753c",
            "value": " 232k/232k [00:00&lt;00:00, 3.23MB/s]"
          }
        },
        "f398ec61a7c54fe78654ef6712867b15": {
          "model_module": "@jupyter-widgets/base",
          "model_name": "LayoutModel",
          "model_module_version": "1.2.0",
          "state": {
            "_model_module": "@jupyter-widgets/base",
            "_model_module_version": "1.2.0",
            "_model_name": "LayoutModel",
            "_view_count": null,
            "_view_module": "@jupyter-widgets/base",
            "_view_module_version": "1.2.0",
            "_view_name": "LayoutView",
            "align_content": null,
            "align_items": null,
            "align_self": null,
            "border": null,
            "bottom": null,
            "display": null,
            "flex": null,
            "flex_flow": null,
            "grid_area": null,
            "grid_auto_columns": null,
            "grid_auto_flow": null,
            "grid_auto_rows": null,
            "grid_column": null,
            "grid_gap": null,
            "grid_row": null,
            "grid_template_areas": null,
            "grid_template_columns": null,
            "grid_template_rows": null,
            "height": null,
            "justify_content": null,
            "justify_items": null,
            "left": null,
            "margin": null,
            "max_height": null,
            "max_width": null,
            "min_height": null,
            "min_width": null,
            "object_fit": null,
            "object_position": null,
            "order": null,
            "overflow": null,
            "overflow_x": null,
            "overflow_y": null,
            "padding": null,
            "right": null,
            "top": null,
            "visibility": null,
            "width": null
          }
        },
        "bf623787be224cd9a2560af42d754d5d": {
          "model_module": "@jupyter-widgets/base",
          "model_name": "LayoutModel",
          "model_module_version": "1.2.0",
          "state": {
            "_model_module": "@jupyter-widgets/base",
            "_model_module_version": "1.2.0",
            "_model_name": "LayoutModel",
            "_view_count": null,
            "_view_module": "@jupyter-widgets/base",
            "_view_module_version": "1.2.0",
            "_view_name": "LayoutView",
            "align_content": null,
            "align_items": null,
            "align_self": null,
            "border": null,
            "bottom": null,
            "display": null,
            "flex": null,
            "flex_flow": null,
            "grid_area": null,
            "grid_auto_columns": null,
            "grid_auto_flow": null,
            "grid_auto_rows": null,
            "grid_column": null,
            "grid_gap": null,
            "grid_row": null,
            "grid_template_areas": null,
            "grid_template_columns": null,
            "grid_template_rows": null,
            "height": null,
            "justify_content": null,
            "justify_items": null,
            "left": null,
            "margin": null,
            "max_height": null,
            "max_width": null,
            "min_height": null,
            "min_width": null,
            "object_fit": null,
            "object_position": null,
            "order": null,
            "overflow": null,
            "overflow_x": null,
            "overflow_y": null,
            "padding": null,
            "right": null,
            "top": null,
            "visibility": null,
            "width": null
          }
        },
        "da8cd99af2ba45fbb610967ce23abca2": {
          "model_module": "@jupyter-widgets/controls",
          "model_name": "DescriptionStyleModel",
          "model_module_version": "1.5.0",
          "state": {
            "_model_module": "@jupyter-widgets/controls",
            "_model_module_version": "1.5.0",
            "_model_name": "DescriptionStyleModel",
            "_view_count": null,
            "_view_module": "@jupyter-widgets/base",
            "_view_module_version": "1.2.0",
            "_view_name": "StyleView",
            "description_width": ""
          }
        },
        "7cac8b7cc8334741b20bec3ab490978f": {
          "model_module": "@jupyter-widgets/base",
          "model_name": "LayoutModel",
          "model_module_version": "1.2.0",
          "state": {
            "_model_module": "@jupyter-widgets/base",
            "_model_module_version": "1.2.0",
            "_model_name": "LayoutModel",
            "_view_count": null,
            "_view_module": "@jupyter-widgets/base",
            "_view_module_version": "1.2.0",
            "_view_name": "LayoutView",
            "align_content": null,
            "align_items": null,
            "align_self": null,
            "border": null,
            "bottom": null,
            "display": null,
            "flex": null,
            "flex_flow": null,
            "grid_area": null,
            "grid_auto_columns": null,
            "grid_auto_flow": null,
            "grid_auto_rows": null,
            "grid_column": null,
            "grid_gap": null,
            "grid_row": null,
            "grid_template_areas": null,
            "grid_template_columns": null,
            "grid_template_rows": null,
            "height": null,
            "justify_content": null,
            "justify_items": null,
            "left": null,
            "margin": null,
            "max_height": null,
            "max_width": null,
            "min_height": null,
            "min_width": null,
            "object_fit": null,
            "object_position": null,
            "order": null,
            "overflow": null,
            "overflow_x": null,
            "overflow_y": null,
            "padding": null,
            "right": null,
            "top": null,
            "visibility": null,
            "width": null
          }
        },
        "588b72a45abb4f4b918a4dbda9d4943b": {
          "model_module": "@jupyter-widgets/controls",
          "model_name": "ProgressStyleModel",
          "model_module_version": "1.5.0",
          "state": {
            "_model_module": "@jupyter-widgets/controls",
            "_model_module_version": "1.5.0",
            "_model_name": "ProgressStyleModel",
            "_view_count": null,
            "_view_module": "@jupyter-widgets/base",
            "_view_module_version": "1.2.0",
            "_view_name": "StyleView",
            "bar_color": null,
            "description_width": ""
          }
        },
        "0e818bce337543deaa36114e17753c02": {
          "model_module": "@jupyter-widgets/base",
          "model_name": "LayoutModel",
          "model_module_version": "1.2.0",
          "state": {
            "_model_module": "@jupyter-widgets/base",
            "_model_module_version": "1.2.0",
            "_model_name": "LayoutModel",
            "_view_count": null,
            "_view_module": "@jupyter-widgets/base",
            "_view_module_version": "1.2.0",
            "_view_name": "LayoutView",
            "align_content": null,
            "align_items": null,
            "align_self": null,
            "border": null,
            "bottom": null,
            "display": null,
            "flex": null,
            "flex_flow": null,
            "grid_area": null,
            "grid_auto_columns": null,
            "grid_auto_flow": null,
            "grid_auto_rows": null,
            "grid_column": null,
            "grid_gap": null,
            "grid_row": null,
            "grid_template_areas": null,
            "grid_template_columns": null,
            "grid_template_rows": null,
            "height": null,
            "justify_content": null,
            "justify_items": null,
            "left": null,
            "margin": null,
            "max_height": null,
            "max_width": null,
            "min_height": null,
            "min_width": null,
            "object_fit": null,
            "object_position": null,
            "order": null,
            "overflow": null,
            "overflow_x": null,
            "overflow_y": null,
            "padding": null,
            "right": null,
            "top": null,
            "visibility": null,
            "width": null
          }
        },
        "ddd69f4bdac34bcda9a9c009115e753c": {
          "model_module": "@jupyter-widgets/controls",
          "model_name": "DescriptionStyleModel",
          "model_module_version": "1.5.0",
          "state": {
            "_model_module": "@jupyter-widgets/controls",
            "_model_module_version": "1.5.0",
            "_model_name": "DescriptionStyleModel",
            "_view_count": null,
            "_view_module": "@jupyter-widgets/base",
            "_view_module_version": "1.2.0",
            "_view_name": "StyleView",
            "description_width": ""
          }
        },
        "13bdf5cfc2214442ac50ecc77b1511d0": {
          "model_module": "@jupyter-widgets/controls",
          "model_name": "HBoxModel",
          "model_module_version": "1.5.0",
          "state": {
            "_dom_classes": [],
            "_model_module": "@jupyter-widgets/controls",
            "_model_module_version": "1.5.0",
            "_model_name": "HBoxModel",
            "_view_count": null,
            "_view_module": "@jupyter-widgets/controls",
            "_view_module_version": "1.5.0",
            "_view_name": "HBoxView",
            "box_style": "",
            "children": [
              "IPY_MODEL_5684b0742e3446f8bdfa68e4c9f19141",
              "IPY_MODEL_2e479d44551c4efd9e40b28df96caea9",
              "IPY_MODEL_8ec08abd1c534c12b6a591553b89b96f"
            ],
            "layout": "IPY_MODEL_8753e7d8640d450e9007e6782f52d30f"
          }
        },
        "5684b0742e3446f8bdfa68e4c9f19141": {
          "model_module": "@jupyter-widgets/controls",
          "model_name": "HTMLModel",
          "model_module_version": "1.5.0",
          "state": {
            "_dom_classes": [],
            "_model_module": "@jupyter-widgets/controls",
            "_model_module_version": "1.5.0",
            "_model_name": "HTMLModel",
            "_view_count": null,
            "_view_module": "@jupyter-widgets/controls",
            "_view_module_version": "1.5.0",
            "_view_name": "HTMLView",
            "description": "",
            "description_tooltip": null,
            "layout": "IPY_MODEL_0250e7750c9341e2a8ac594439277509",
            "placeholder": "​",
            "style": "IPY_MODEL_347e5e80b52f4aa08ad9b5238c2e811d",
            "value": "tokenizer.json: 100%"
          }
        },
        "2e479d44551c4efd9e40b28df96caea9": {
          "model_module": "@jupyter-widgets/controls",
          "model_name": "FloatProgressModel",
          "model_module_version": "1.5.0",
          "state": {
            "_dom_classes": [],
            "_model_module": "@jupyter-widgets/controls",
            "_model_module_version": "1.5.0",
            "_model_name": "FloatProgressModel",
            "_view_count": null,
            "_view_module": "@jupyter-widgets/controls",
            "_view_module_version": "1.5.0",
            "_view_name": "ProgressView",
            "bar_style": "success",
            "description": "",
            "description_tooltip": null,
            "layout": "IPY_MODEL_27e3dde3502246878fc7ebf2e650ccf0",
            "max": 466062,
            "min": 0,
            "orientation": "horizontal",
            "style": "IPY_MODEL_6c7a8d98b37a4cbe9476d3de96b4cd50",
            "value": 466062
          }
        },
        "8ec08abd1c534c12b6a591553b89b96f": {
          "model_module": "@jupyter-widgets/controls",
          "model_name": "HTMLModel",
          "model_module_version": "1.5.0",
          "state": {
            "_dom_classes": [],
            "_model_module": "@jupyter-widgets/controls",
            "_model_module_version": "1.5.0",
            "_model_name": "HTMLModel",
            "_view_count": null,
            "_view_module": "@jupyter-widgets/controls",
            "_view_module_version": "1.5.0",
            "_view_name": "HTMLView",
            "description": "",
            "description_tooltip": null,
            "layout": "IPY_MODEL_6aeb60440d19423d89342740065b01a9",
            "placeholder": "​",
            "style": "IPY_MODEL_94542a09e1044051ab9199d8d92fe604",
            "value": " 466k/466k [00:00&lt;00:00, 7.52MB/s]"
          }
        },
        "8753e7d8640d450e9007e6782f52d30f": {
          "model_module": "@jupyter-widgets/base",
          "model_name": "LayoutModel",
          "model_module_version": "1.2.0",
          "state": {
            "_model_module": "@jupyter-widgets/base",
            "_model_module_version": "1.2.0",
            "_model_name": "LayoutModel",
            "_view_count": null,
            "_view_module": "@jupyter-widgets/base",
            "_view_module_version": "1.2.0",
            "_view_name": "LayoutView",
            "align_content": null,
            "align_items": null,
            "align_self": null,
            "border": null,
            "bottom": null,
            "display": null,
            "flex": null,
            "flex_flow": null,
            "grid_area": null,
            "grid_auto_columns": null,
            "grid_auto_flow": null,
            "grid_auto_rows": null,
            "grid_column": null,
            "grid_gap": null,
            "grid_row": null,
            "grid_template_areas": null,
            "grid_template_columns": null,
            "grid_template_rows": null,
            "height": null,
            "justify_content": null,
            "justify_items": null,
            "left": null,
            "margin": null,
            "max_height": null,
            "max_width": null,
            "min_height": null,
            "min_width": null,
            "object_fit": null,
            "object_position": null,
            "order": null,
            "overflow": null,
            "overflow_x": null,
            "overflow_y": null,
            "padding": null,
            "right": null,
            "top": null,
            "visibility": null,
            "width": null
          }
        },
        "0250e7750c9341e2a8ac594439277509": {
          "model_module": "@jupyter-widgets/base",
          "model_name": "LayoutModel",
          "model_module_version": "1.2.0",
          "state": {
            "_model_module": "@jupyter-widgets/base",
            "_model_module_version": "1.2.0",
            "_model_name": "LayoutModel",
            "_view_count": null,
            "_view_module": "@jupyter-widgets/base",
            "_view_module_version": "1.2.0",
            "_view_name": "LayoutView",
            "align_content": null,
            "align_items": null,
            "align_self": null,
            "border": null,
            "bottom": null,
            "display": null,
            "flex": null,
            "flex_flow": null,
            "grid_area": null,
            "grid_auto_columns": null,
            "grid_auto_flow": null,
            "grid_auto_rows": null,
            "grid_column": null,
            "grid_gap": null,
            "grid_row": null,
            "grid_template_areas": null,
            "grid_template_columns": null,
            "grid_template_rows": null,
            "height": null,
            "justify_content": null,
            "justify_items": null,
            "left": null,
            "margin": null,
            "max_height": null,
            "max_width": null,
            "min_height": null,
            "min_width": null,
            "object_fit": null,
            "object_position": null,
            "order": null,
            "overflow": null,
            "overflow_x": null,
            "overflow_y": null,
            "padding": null,
            "right": null,
            "top": null,
            "visibility": null,
            "width": null
          }
        },
        "347e5e80b52f4aa08ad9b5238c2e811d": {
          "model_module": "@jupyter-widgets/controls",
          "model_name": "DescriptionStyleModel",
          "model_module_version": "1.5.0",
          "state": {
            "_model_module": "@jupyter-widgets/controls",
            "_model_module_version": "1.5.0",
            "_model_name": "DescriptionStyleModel",
            "_view_count": null,
            "_view_module": "@jupyter-widgets/base",
            "_view_module_version": "1.2.0",
            "_view_name": "StyleView",
            "description_width": ""
          }
        },
        "27e3dde3502246878fc7ebf2e650ccf0": {
          "model_module": "@jupyter-widgets/base",
          "model_name": "LayoutModel",
          "model_module_version": "1.2.0",
          "state": {
            "_model_module": "@jupyter-widgets/base",
            "_model_module_version": "1.2.0",
            "_model_name": "LayoutModel",
            "_view_count": null,
            "_view_module": "@jupyter-widgets/base",
            "_view_module_version": "1.2.0",
            "_view_name": "LayoutView",
            "align_content": null,
            "align_items": null,
            "align_self": null,
            "border": null,
            "bottom": null,
            "display": null,
            "flex": null,
            "flex_flow": null,
            "grid_area": null,
            "grid_auto_columns": null,
            "grid_auto_flow": null,
            "grid_auto_rows": null,
            "grid_column": null,
            "grid_gap": null,
            "grid_row": null,
            "grid_template_areas": null,
            "grid_template_columns": null,
            "grid_template_rows": null,
            "height": null,
            "justify_content": null,
            "justify_items": null,
            "left": null,
            "margin": null,
            "max_height": null,
            "max_width": null,
            "min_height": null,
            "min_width": null,
            "object_fit": null,
            "object_position": null,
            "order": null,
            "overflow": null,
            "overflow_x": null,
            "overflow_y": null,
            "padding": null,
            "right": null,
            "top": null,
            "visibility": null,
            "width": null
          }
        },
        "6c7a8d98b37a4cbe9476d3de96b4cd50": {
          "model_module": "@jupyter-widgets/controls",
          "model_name": "ProgressStyleModel",
          "model_module_version": "1.5.0",
          "state": {
            "_model_module": "@jupyter-widgets/controls",
            "_model_module_version": "1.5.0",
            "_model_name": "ProgressStyleModel",
            "_view_count": null,
            "_view_module": "@jupyter-widgets/base",
            "_view_module_version": "1.2.0",
            "_view_name": "StyleView",
            "bar_color": null,
            "description_width": ""
          }
        },
        "6aeb60440d19423d89342740065b01a9": {
          "model_module": "@jupyter-widgets/base",
          "model_name": "LayoutModel",
          "model_module_version": "1.2.0",
          "state": {
            "_model_module": "@jupyter-widgets/base",
            "_model_module_version": "1.2.0",
            "_model_name": "LayoutModel",
            "_view_count": null,
            "_view_module": "@jupyter-widgets/base",
            "_view_module_version": "1.2.0",
            "_view_name": "LayoutView",
            "align_content": null,
            "align_items": null,
            "align_self": null,
            "border": null,
            "bottom": null,
            "display": null,
            "flex": null,
            "flex_flow": null,
            "grid_area": null,
            "grid_auto_columns": null,
            "grid_auto_flow": null,
            "grid_auto_rows": null,
            "grid_column": null,
            "grid_gap": null,
            "grid_row": null,
            "grid_template_areas": null,
            "grid_template_columns": null,
            "grid_template_rows": null,
            "height": null,
            "justify_content": null,
            "justify_items": null,
            "left": null,
            "margin": null,
            "max_height": null,
            "max_width": null,
            "min_height": null,
            "min_width": null,
            "object_fit": null,
            "object_position": null,
            "order": null,
            "overflow": null,
            "overflow_x": null,
            "overflow_y": null,
            "padding": null,
            "right": null,
            "top": null,
            "visibility": null,
            "width": null
          }
        },
        "94542a09e1044051ab9199d8d92fe604": {
          "model_module": "@jupyter-widgets/controls",
          "model_name": "DescriptionStyleModel",
          "model_module_version": "1.5.0",
          "state": {
            "_model_module": "@jupyter-widgets/controls",
            "_model_module_version": "1.5.0",
            "_model_name": "DescriptionStyleModel",
            "_view_count": null,
            "_view_module": "@jupyter-widgets/base",
            "_view_module_version": "1.2.0",
            "_view_name": "StyleView",
            "description_width": ""
          }
        },
        "fc0680dfec7e457c8a3c3d441f9bc182": {
          "model_module": "@jupyter-widgets/controls",
          "model_name": "HBoxModel",
          "model_module_version": "1.5.0",
          "state": {
            "_dom_classes": [],
            "_model_module": "@jupyter-widgets/controls",
            "_model_module_version": "1.5.0",
            "_model_name": "HBoxModel",
            "_view_count": null,
            "_view_module": "@jupyter-widgets/controls",
            "_view_module_version": "1.5.0",
            "_view_name": "HBoxView",
            "box_style": "",
            "children": [
              "IPY_MODEL_e2002bcc7c354c828f7c8b382d2377e7",
              "IPY_MODEL_d1021c590c444ecfa5b2a7d81fde5b85",
              "IPY_MODEL_de163e71e4bf425cb273ebdbd5c37d18"
            ],
            "layout": "IPY_MODEL_f0d67f734d394132a2e2a0c83ad6627d"
          }
        },
        "e2002bcc7c354c828f7c8b382d2377e7": {
          "model_module": "@jupyter-widgets/controls",
          "model_name": "HTMLModel",
          "model_module_version": "1.5.0",
          "state": {
            "_dom_classes": [],
            "_model_module": "@jupyter-widgets/controls",
            "_model_module_version": "1.5.0",
            "_model_name": "HTMLModel",
            "_view_count": null,
            "_view_module": "@jupyter-widgets/controls",
            "_view_module_version": "1.5.0",
            "_view_name": "HTMLView",
            "description": "",
            "description_tooltip": null,
            "layout": "IPY_MODEL_c4d5eaebb4d747a6a95c4bc4a1fc49c0",
            "placeholder": "​",
            "style": "IPY_MODEL_d52ec0ac6022409a8bb8fb4b9d624b75",
            "value": "config.json: 100%"
          }
        },
        "d1021c590c444ecfa5b2a7d81fde5b85": {
          "model_module": "@jupyter-widgets/controls",
          "model_name": "FloatProgressModel",
          "model_module_version": "1.5.0",
          "state": {
            "_dom_classes": [],
            "_model_module": "@jupyter-widgets/controls",
            "_model_module_version": "1.5.0",
            "_model_name": "FloatProgressModel",
            "_view_count": null,
            "_view_module": "@jupyter-widgets/controls",
            "_view_module_version": "1.5.0",
            "_view_name": "ProgressView",
            "bar_style": "success",
            "description": "",
            "description_tooltip": null,
            "layout": "IPY_MODEL_5cb7b3728f0c43939c4bf8c4631c36d2",
            "max": 570,
            "min": 0,
            "orientation": "horizontal",
            "style": "IPY_MODEL_ae00fcffd28041bcb73b996bdb3b48d7",
            "value": 570
          }
        },
        "de163e71e4bf425cb273ebdbd5c37d18": {
          "model_module": "@jupyter-widgets/controls",
          "model_name": "HTMLModel",
          "model_module_version": "1.5.0",
          "state": {
            "_dom_classes": [],
            "_model_module": "@jupyter-widgets/controls",
            "_model_module_version": "1.5.0",
            "_model_name": "HTMLModel",
            "_view_count": null,
            "_view_module": "@jupyter-widgets/controls",
            "_view_module_version": "1.5.0",
            "_view_name": "HTMLView",
            "description": "",
            "description_tooltip": null,
            "layout": "IPY_MODEL_776ef05b294a4f2797a4bc2a2abf945b",
            "placeholder": "​",
            "style": "IPY_MODEL_9db618abf2894185a64ecdec1bf89441",
            "value": " 570/570 [00:00&lt;00:00, 13.8kB/s]"
          }
        },
        "f0d67f734d394132a2e2a0c83ad6627d": {
          "model_module": "@jupyter-widgets/base",
          "model_name": "LayoutModel",
          "model_module_version": "1.2.0",
          "state": {
            "_model_module": "@jupyter-widgets/base",
            "_model_module_version": "1.2.0",
            "_model_name": "LayoutModel",
            "_view_count": null,
            "_view_module": "@jupyter-widgets/base",
            "_view_module_version": "1.2.0",
            "_view_name": "LayoutView",
            "align_content": null,
            "align_items": null,
            "align_self": null,
            "border": null,
            "bottom": null,
            "display": null,
            "flex": null,
            "flex_flow": null,
            "grid_area": null,
            "grid_auto_columns": null,
            "grid_auto_flow": null,
            "grid_auto_rows": null,
            "grid_column": null,
            "grid_gap": null,
            "grid_row": null,
            "grid_template_areas": null,
            "grid_template_columns": null,
            "grid_template_rows": null,
            "height": null,
            "justify_content": null,
            "justify_items": null,
            "left": null,
            "margin": null,
            "max_height": null,
            "max_width": null,
            "min_height": null,
            "min_width": null,
            "object_fit": null,
            "object_position": null,
            "order": null,
            "overflow": null,
            "overflow_x": null,
            "overflow_y": null,
            "padding": null,
            "right": null,
            "top": null,
            "visibility": null,
            "width": null
          }
        },
        "c4d5eaebb4d747a6a95c4bc4a1fc49c0": {
          "model_module": "@jupyter-widgets/base",
          "model_name": "LayoutModel",
          "model_module_version": "1.2.0",
          "state": {
            "_model_module": "@jupyter-widgets/base",
            "_model_module_version": "1.2.0",
            "_model_name": "LayoutModel",
            "_view_count": null,
            "_view_module": "@jupyter-widgets/base",
            "_view_module_version": "1.2.0",
            "_view_name": "LayoutView",
            "align_content": null,
            "align_items": null,
            "align_self": null,
            "border": null,
            "bottom": null,
            "display": null,
            "flex": null,
            "flex_flow": null,
            "grid_area": null,
            "grid_auto_columns": null,
            "grid_auto_flow": null,
            "grid_auto_rows": null,
            "grid_column": null,
            "grid_gap": null,
            "grid_row": null,
            "grid_template_areas": null,
            "grid_template_columns": null,
            "grid_template_rows": null,
            "height": null,
            "justify_content": null,
            "justify_items": null,
            "left": null,
            "margin": null,
            "max_height": null,
            "max_width": null,
            "min_height": null,
            "min_width": null,
            "object_fit": null,
            "object_position": null,
            "order": null,
            "overflow": null,
            "overflow_x": null,
            "overflow_y": null,
            "padding": null,
            "right": null,
            "top": null,
            "visibility": null,
            "width": null
          }
        },
        "d52ec0ac6022409a8bb8fb4b9d624b75": {
          "model_module": "@jupyter-widgets/controls",
          "model_name": "DescriptionStyleModel",
          "model_module_version": "1.5.0",
          "state": {
            "_model_module": "@jupyter-widgets/controls",
            "_model_module_version": "1.5.0",
            "_model_name": "DescriptionStyleModel",
            "_view_count": null,
            "_view_module": "@jupyter-widgets/base",
            "_view_module_version": "1.2.0",
            "_view_name": "StyleView",
            "description_width": ""
          }
        },
        "5cb7b3728f0c43939c4bf8c4631c36d2": {
          "model_module": "@jupyter-widgets/base",
          "model_name": "LayoutModel",
          "model_module_version": "1.2.0",
          "state": {
            "_model_module": "@jupyter-widgets/base",
            "_model_module_version": "1.2.0",
            "_model_name": "LayoutModel",
            "_view_count": null,
            "_view_module": "@jupyter-widgets/base",
            "_view_module_version": "1.2.0",
            "_view_name": "LayoutView",
            "align_content": null,
            "align_items": null,
            "align_self": null,
            "border": null,
            "bottom": null,
            "display": null,
            "flex": null,
            "flex_flow": null,
            "grid_area": null,
            "grid_auto_columns": null,
            "grid_auto_flow": null,
            "grid_auto_rows": null,
            "grid_column": null,
            "grid_gap": null,
            "grid_row": null,
            "grid_template_areas": null,
            "grid_template_columns": null,
            "grid_template_rows": null,
            "height": null,
            "justify_content": null,
            "justify_items": null,
            "left": null,
            "margin": null,
            "max_height": null,
            "max_width": null,
            "min_height": null,
            "min_width": null,
            "object_fit": null,
            "object_position": null,
            "order": null,
            "overflow": null,
            "overflow_x": null,
            "overflow_y": null,
            "padding": null,
            "right": null,
            "top": null,
            "visibility": null,
            "width": null
          }
        },
        "ae00fcffd28041bcb73b996bdb3b48d7": {
          "model_module": "@jupyter-widgets/controls",
          "model_name": "ProgressStyleModel",
          "model_module_version": "1.5.0",
          "state": {
            "_model_module": "@jupyter-widgets/controls",
            "_model_module_version": "1.5.0",
            "_model_name": "ProgressStyleModel",
            "_view_count": null,
            "_view_module": "@jupyter-widgets/base",
            "_view_module_version": "1.2.0",
            "_view_name": "StyleView",
            "bar_color": null,
            "description_width": ""
          }
        },
        "776ef05b294a4f2797a4bc2a2abf945b": {
          "model_module": "@jupyter-widgets/base",
          "model_name": "LayoutModel",
          "model_module_version": "1.2.0",
          "state": {
            "_model_module": "@jupyter-widgets/base",
            "_model_module_version": "1.2.0",
            "_model_name": "LayoutModel",
            "_view_count": null,
            "_view_module": "@jupyter-widgets/base",
            "_view_module_version": "1.2.0",
            "_view_name": "LayoutView",
            "align_content": null,
            "align_items": null,
            "align_self": null,
            "border": null,
            "bottom": null,
            "display": null,
            "flex": null,
            "flex_flow": null,
            "grid_area": null,
            "grid_auto_columns": null,
            "grid_auto_flow": null,
            "grid_auto_rows": null,
            "grid_column": null,
            "grid_gap": null,
            "grid_row": null,
            "grid_template_areas": null,
            "grid_template_columns": null,
            "grid_template_rows": null,
            "height": null,
            "justify_content": null,
            "justify_items": null,
            "left": null,
            "margin": null,
            "max_height": null,
            "max_width": null,
            "min_height": null,
            "min_width": null,
            "object_fit": null,
            "object_position": null,
            "order": null,
            "overflow": null,
            "overflow_x": null,
            "overflow_y": null,
            "padding": null,
            "right": null,
            "top": null,
            "visibility": null,
            "width": null
          }
        },
        "9db618abf2894185a64ecdec1bf89441": {
          "model_module": "@jupyter-widgets/controls",
          "model_name": "DescriptionStyleModel",
          "model_module_version": "1.5.0",
          "state": {
            "_model_module": "@jupyter-widgets/controls",
            "_model_module_version": "1.5.0",
            "_model_name": "DescriptionStyleModel",
            "_view_count": null,
            "_view_module": "@jupyter-widgets/base",
            "_view_module_version": "1.2.0",
            "_view_name": "StyleView",
            "description_width": ""
          }
        },
        "22341ec1069f42e584284a5ba9f5c02f": {
          "model_module": "@jupyter-widgets/controls",
          "model_name": "HBoxModel",
          "model_module_version": "1.5.0",
          "state": {
            "_dom_classes": [],
            "_model_module": "@jupyter-widgets/controls",
            "_model_module_version": "1.5.0",
            "_model_name": "HBoxModel",
            "_view_count": null,
            "_view_module": "@jupyter-widgets/controls",
            "_view_module_version": "1.5.0",
            "_view_name": "HBoxView",
            "box_style": "",
            "children": [
              "IPY_MODEL_d2542199518543569ff1c33832e5124f",
              "IPY_MODEL_2f7e48195fba48d79220d71fc9270706",
              "IPY_MODEL_6774ddc6f9be439bb568cc905542829b"
            ],
            "layout": "IPY_MODEL_e3b2b672bc5c41edb83053bf985da682"
          }
        },
        "d2542199518543569ff1c33832e5124f": {
          "model_module": "@jupyter-widgets/controls",
          "model_name": "HTMLModel",
          "model_module_version": "1.5.0",
          "state": {
            "_dom_classes": [],
            "_model_module": "@jupyter-widgets/controls",
            "_model_module_version": "1.5.0",
            "_model_name": "HTMLModel",
            "_view_count": null,
            "_view_module": "@jupyter-widgets/controls",
            "_view_module_version": "1.5.0",
            "_view_name": "HTMLView",
            "description": "",
            "description_tooltip": null,
            "layout": "IPY_MODEL_388bd5f5deff4cb8b2b9efc887778b56",
            "placeholder": "​",
            "style": "IPY_MODEL_9c19077f426b4f438e80af48f65bca49",
            "value": "model.safetensors: 100%"
          }
        },
        "2f7e48195fba48d79220d71fc9270706": {
          "model_module": "@jupyter-widgets/controls",
          "model_name": "FloatProgressModel",
          "model_module_version": "1.5.0",
          "state": {
            "_dom_classes": [],
            "_model_module": "@jupyter-widgets/controls",
            "_model_module_version": "1.5.0",
            "_model_name": "FloatProgressModel",
            "_view_count": null,
            "_view_module": "@jupyter-widgets/controls",
            "_view_module_version": "1.5.0",
            "_view_name": "ProgressView",
            "bar_style": "success",
            "description": "",
            "description_tooltip": null,
            "layout": "IPY_MODEL_dc77faea91e145dc83a18ccec847af5c",
            "max": 440449768,
            "min": 0,
            "orientation": "horizontal",
            "style": "IPY_MODEL_e74a01e5b1c4403e99341633037a8cc4",
            "value": 440449768
          }
        },
        "6774ddc6f9be439bb568cc905542829b": {
          "model_module": "@jupyter-widgets/controls",
          "model_name": "HTMLModel",
          "model_module_version": "1.5.0",
          "state": {
            "_dom_classes": [],
            "_model_module": "@jupyter-widgets/controls",
            "_model_module_version": "1.5.0",
            "_model_name": "HTMLModel",
            "_view_count": null,
            "_view_module": "@jupyter-widgets/controls",
            "_view_module_version": "1.5.0",
            "_view_name": "HTMLView",
            "description": "",
            "description_tooltip": null,
            "layout": "IPY_MODEL_c3431e9d650840718b26fb7ba68b5946",
            "placeholder": "​",
            "style": "IPY_MODEL_e377528f828a4912a233a83fa7fbfba0",
            "value": " 440M/440M [00:03&lt;00:00, 147MB/s]"
          }
        },
        "e3b2b672bc5c41edb83053bf985da682": {
          "model_module": "@jupyter-widgets/base",
          "model_name": "LayoutModel",
          "model_module_version": "1.2.0",
          "state": {
            "_model_module": "@jupyter-widgets/base",
            "_model_module_version": "1.2.0",
            "_model_name": "LayoutModel",
            "_view_count": null,
            "_view_module": "@jupyter-widgets/base",
            "_view_module_version": "1.2.0",
            "_view_name": "LayoutView",
            "align_content": null,
            "align_items": null,
            "align_self": null,
            "border": null,
            "bottom": null,
            "display": null,
            "flex": null,
            "flex_flow": null,
            "grid_area": null,
            "grid_auto_columns": null,
            "grid_auto_flow": null,
            "grid_auto_rows": null,
            "grid_column": null,
            "grid_gap": null,
            "grid_row": null,
            "grid_template_areas": null,
            "grid_template_columns": null,
            "grid_template_rows": null,
            "height": null,
            "justify_content": null,
            "justify_items": null,
            "left": null,
            "margin": null,
            "max_height": null,
            "max_width": null,
            "min_height": null,
            "min_width": null,
            "object_fit": null,
            "object_position": null,
            "order": null,
            "overflow": null,
            "overflow_x": null,
            "overflow_y": null,
            "padding": null,
            "right": null,
            "top": null,
            "visibility": null,
            "width": null
          }
        },
        "388bd5f5deff4cb8b2b9efc887778b56": {
          "model_module": "@jupyter-widgets/base",
          "model_name": "LayoutModel",
          "model_module_version": "1.2.0",
          "state": {
            "_model_module": "@jupyter-widgets/base",
            "_model_module_version": "1.2.0",
            "_model_name": "LayoutModel",
            "_view_count": null,
            "_view_module": "@jupyter-widgets/base",
            "_view_module_version": "1.2.0",
            "_view_name": "LayoutView",
            "align_content": null,
            "align_items": null,
            "align_self": null,
            "border": null,
            "bottom": null,
            "display": null,
            "flex": null,
            "flex_flow": null,
            "grid_area": null,
            "grid_auto_columns": null,
            "grid_auto_flow": null,
            "grid_auto_rows": null,
            "grid_column": null,
            "grid_gap": null,
            "grid_row": null,
            "grid_template_areas": null,
            "grid_template_columns": null,
            "grid_template_rows": null,
            "height": null,
            "justify_content": null,
            "justify_items": null,
            "left": null,
            "margin": null,
            "max_height": null,
            "max_width": null,
            "min_height": null,
            "min_width": null,
            "object_fit": null,
            "object_position": null,
            "order": null,
            "overflow": null,
            "overflow_x": null,
            "overflow_y": null,
            "padding": null,
            "right": null,
            "top": null,
            "visibility": null,
            "width": null
          }
        },
        "9c19077f426b4f438e80af48f65bca49": {
          "model_module": "@jupyter-widgets/controls",
          "model_name": "DescriptionStyleModel",
          "model_module_version": "1.5.0",
          "state": {
            "_model_module": "@jupyter-widgets/controls",
            "_model_module_version": "1.5.0",
            "_model_name": "DescriptionStyleModel",
            "_view_count": null,
            "_view_module": "@jupyter-widgets/base",
            "_view_module_version": "1.2.0",
            "_view_name": "StyleView",
            "description_width": ""
          }
        },
        "dc77faea91e145dc83a18ccec847af5c": {
          "model_module": "@jupyter-widgets/base",
          "model_name": "LayoutModel",
          "model_module_version": "1.2.0",
          "state": {
            "_model_module": "@jupyter-widgets/base",
            "_model_module_version": "1.2.0",
            "_model_name": "LayoutModel",
            "_view_count": null,
            "_view_module": "@jupyter-widgets/base",
            "_view_module_version": "1.2.0",
            "_view_name": "LayoutView",
            "align_content": null,
            "align_items": null,
            "align_self": null,
            "border": null,
            "bottom": null,
            "display": null,
            "flex": null,
            "flex_flow": null,
            "grid_area": null,
            "grid_auto_columns": null,
            "grid_auto_flow": null,
            "grid_auto_rows": null,
            "grid_column": null,
            "grid_gap": null,
            "grid_row": null,
            "grid_template_areas": null,
            "grid_template_columns": null,
            "grid_template_rows": null,
            "height": null,
            "justify_content": null,
            "justify_items": null,
            "left": null,
            "margin": null,
            "max_height": null,
            "max_width": null,
            "min_height": null,
            "min_width": null,
            "object_fit": null,
            "object_position": null,
            "order": null,
            "overflow": null,
            "overflow_x": null,
            "overflow_y": null,
            "padding": null,
            "right": null,
            "top": null,
            "visibility": null,
            "width": null
          }
        },
        "e74a01e5b1c4403e99341633037a8cc4": {
          "model_module": "@jupyter-widgets/controls",
          "model_name": "ProgressStyleModel",
          "model_module_version": "1.5.0",
          "state": {
            "_model_module": "@jupyter-widgets/controls",
            "_model_module_version": "1.5.0",
            "_model_name": "ProgressStyleModel",
            "_view_count": null,
            "_view_module": "@jupyter-widgets/base",
            "_view_module_version": "1.2.0",
            "_view_name": "StyleView",
            "bar_color": null,
            "description_width": ""
          }
        },
        "c3431e9d650840718b26fb7ba68b5946": {
          "model_module": "@jupyter-widgets/base",
          "model_name": "LayoutModel",
          "model_module_version": "1.2.0",
          "state": {
            "_model_module": "@jupyter-widgets/base",
            "_model_module_version": "1.2.0",
            "_model_name": "LayoutModel",
            "_view_count": null,
            "_view_module": "@jupyter-widgets/base",
            "_view_module_version": "1.2.0",
            "_view_name": "LayoutView",
            "align_content": null,
            "align_items": null,
            "align_self": null,
            "border": null,
            "bottom": null,
            "display": null,
            "flex": null,
            "flex_flow": null,
            "grid_area": null,
            "grid_auto_columns": null,
            "grid_auto_flow": null,
            "grid_auto_rows": null,
            "grid_column": null,
            "grid_gap": null,
            "grid_row": null,
            "grid_template_areas": null,
            "grid_template_columns": null,
            "grid_template_rows": null,
            "height": null,
            "justify_content": null,
            "justify_items": null,
            "left": null,
            "margin": null,
            "max_height": null,
            "max_width": null,
            "min_height": null,
            "min_width": null,
            "object_fit": null,
            "object_position": null,
            "order": null,
            "overflow": null,
            "overflow_x": null,
            "overflow_y": null,
            "padding": null,
            "right": null,
            "top": null,
            "visibility": null,
            "width": null
          }
        },
        "e377528f828a4912a233a83fa7fbfba0": {
          "model_module": "@jupyter-widgets/controls",
          "model_name": "DescriptionStyleModel",
          "model_module_version": "1.5.0",
          "state": {
            "_model_module": "@jupyter-widgets/controls",
            "_model_module_version": "1.5.0",
            "_model_name": "DescriptionStyleModel",
            "_view_count": null,
            "_view_module": "@jupyter-widgets/base",
            "_view_module_version": "1.2.0",
            "_view_name": "StyleView",
            "description_width": ""
          }
        }
      }
    }
  },
  "nbformat": 4,
  "nbformat_minor": 0
}